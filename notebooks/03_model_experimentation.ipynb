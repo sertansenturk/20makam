{
  "cells": [
    {
      "cell_type": "markdown",
      "metadata": {
        "id": "view-in-github",
        "colab_type": "text"
      },
      "source": [
        "<a href=\"https://colab.research.google.com/github/sertansenturk/20makam/blob/master/notebooks/03_model_experimentation.ipynb\" target=\"_parent\"><img src=\"https://colab.research.google.com/assets/colab-badge.svg\" alt=\"Open In Colab\"/></a>"
      ]
    },
    {
      "cell_type": "markdown",
      "metadata": {
        "id": "SW3seEK2yWPd"
      },
      "source": [
        "End-to-end multi-label classification using deep learning\n",
        "=============================================================\n",
        "\n",
        "Based on ISMIR 2021 supervised classification tutorial: \n",
        "\n",
        "- Notebook in Github: https://github.com/music-classification/tutorial/blob/main/book/part3_supervised/tutorial.ipynb\n",
        "- Tutorial Book: https://music-classification.github.io/tutorial/part3_supervised/tutorial.html\n"
      ]
    },
    {
      "cell_type": "markdown",
      "metadata": {
        "id": "1cSJcgQwIrIq"
      },
      "source": [
        "## Install packages"
      ]
    },
    {
      "cell_type": "markdown",
      "metadata": {
        "id": "9GugsmRYH_72"
      },
      "source": [
        "Below we check the CUDA version installed on the colab instance."
      ]
    },
    {
      "cell_type": "code",
      "execution_count": 65,
      "metadata": {
        "colab": {
          "base_uri": "https://localhost:8080/"
        },
        "id": "Iidt0GzvHHxO",
        "outputId": "e85b41a0-eb90-4874-f50d-3e273d0c18d7"
      },
      "outputs": [
        {
          "output_type": "stream",
          "name": "stdout",
          "text": [
            "nvcc: NVIDIA (R) Cuda compiler driver\n",
            "Copyright (c) 2005-2020 NVIDIA Corporation\n",
            "Built on Mon_Oct_12_20:09:46_PDT_2020\n",
            "Cuda compilation tools, release 11.1, V11.1.105\n",
            "Build cuda_11.1.TC455_06.29190527_0\n",
            "Wed Jun 22 20:50:40 2022       \n",
            "+-----------------------------------------------------------------------------+\n",
            "| NVIDIA-SMI 460.32.03    Driver Version: 460.32.03    CUDA Version: 11.2     |\n",
            "|-------------------------------+----------------------+----------------------+\n",
            "| GPU  Name        Persistence-M| Bus-Id        Disp.A | Volatile Uncorr. ECC |\n",
            "| Fan  Temp  Perf  Pwr:Usage/Cap|         Memory-Usage | GPU-Util  Compute M. |\n",
            "|                               |                      |               MIG M. |\n",
            "|===============================+======================+======================|\n",
            "|   0  Tesla P100-PCIE...  Off  | 00000000:00:04.0 Off |                    0 |\n",
            "| N/A   38C    P0    33W / 250W |   1085MiB / 16280MiB |      0%      Default |\n",
            "|                               |                      |                  N/A |\n",
            "+-------------------------------+----------------------+----------------------+\n",
            "                                                                               \n",
            "+-----------------------------------------------------------------------------+\n",
            "| Processes:                                                                  |\n",
            "|  GPU   GI   CI        PID   Type   Process name                  GPU Memory |\n",
            "|        ID   ID                                                   Usage      |\n",
            "|=============================================================================|\n",
            "+-----------------------------------------------------------------------------+\n"
          ]
        }
      ],
      "source": [
        "!nvcc -V\n",
        "gpu_info = !nvidia-smi\n",
        "gpu_info = '\\n'.join(gpu_info)\n",
        "if gpu_info.find('failed') >= 0:\n",
        "  print('Not connected to a GPU')\n",
        "else:\n",
        "  print(gpu_info)"
      ]
    },
    {
      "cell_type": "code",
      "execution_count": 66,
      "metadata": {
        "colab": {
          "base_uri": "https://localhost:8080/"
        },
        "id": "R4ePrUY2yoCh",
        "outputId": "a5b92102-4816-42bb-a2ba-33d7dce262ca"
      },
      "outputs": [
        {
          "output_type": "stream",
          "name": "stdout",
          "text": [
            "Looking in indexes: https://pypi.org/simple, https://us-python.pkg.dev/colab-wheels/public/simple/\n",
            "Requirement already satisfied: torch in /usr/local/lib/python3.7/dist-packages (1.11.0+cu113)\n",
            "Requirement already satisfied: torchvision in /usr/local/lib/python3.7/dist-packages (0.12.0+cu113)\n",
            "Requirement already satisfied: torchaudio in /usr/local/lib/python3.7/dist-packages (0.11.0+cu113)\n",
            "Requirement already satisfied: typing-extensions in /usr/local/lib/python3.7/dist-packages (from torch) (4.1.1)\n",
            "Requirement already satisfied: requests in /usr/local/lib/python3.7/dist-packages (from torchvision) (2.23.0)\n",
            "Requirement already satisfied: pillow!=8.3.*,>=5.3.0 in /usr/local/lib/python3.7/dist-packages (from torchvision) (7.1.2)\n",
            "Requirement already satisfied: numpy in /usr/local/lib/python3.7/dist-packages (from torchvision) (1.21.6)\n",
            "Requirement already satisfied: idna<3,>=2.5 in /usr/local/lib/python3.7/dist-packages (from requests->torchvision) (2.10)\n",
            "Requirement already satisfied: chardet<4,>=3.0.2 in /usr/local/lib/python3.7/dist-packages (from requests->torchvision) (3.0.4)\n",
            "Requirement already satisfied: certifi>=2017.4.17 in /usr/local/lib/python3.7/dist-packages (from requests->torchvision) (2022.6.15)\n",
            "Requirement already satisfied: urllib3!=1.25.0,!=1.25.1,<1.26,>=1.21.1 in /usr/local/lib/python3.7/dist-packages (from requests->torchvision) (1.24.3)\n",
            "\u001b[33mWARNING: Skipping torchtext as it is not installed.\u001b[0m\n",
            "Looking in indexes: https://pypi.org/simple, https://us-python.pkg.dev/colab-wheels/public/simple/\n",
            "Requirement already satisfied: pytorch-lightning in /usr/local/lib/python3.7/dist-packages (1.6.4)\n",
            "Requirement already satisfied: fsspec[http]!=2021.06.0,>=2021.05.0 in /usr/local/lib/python3.7/dist-packages (from pytorch-lightning) (2022.5.0)\n",
            "Requirement already satisfied: torchmetrics>=0.4.1 in /usr/local/lib/python3.7/dist-packages (from pytorch-lightning) (0.9.1)\n",
            "Requirement already satisfied: tensorboard>=2.2.0 in /usr/local/lib/python3.7/dist-packages (from pytorch-lightning) (2.8.0)\n",
            "Requirement already satisfied: tqdm>=4.57.0 in /usr/local/lib/python3.7/dist-packages (from pytorch-lightning) (4.64.0)\n",
            "Requirement already satisfied: pyDeprecate>=0.3.1 in /usr/local/lib/python3.7/dist-packages (from pytorch-lightning) (0.3.2)\n",
            "Requirement already satisfied: protobuf<=3.20.1 in /usr/local/lib/python3.7/dist-packages (from pytorch-lightning) (3.17.3)\n",
            "Requirement already satisfied: typing-extensions>=4.0.0 in /usr/local/lib/python3.7/dist-packages (from pytorch-lightning) (4.1.1)\n",
            "Requirement already satisfied: packaging>=17.0 in /usr/local/lib/python3.7/dist-packages (from pytorch-lightning) (21.3)\n",
            "Requirement already satisfied: numpy>=1.17.2 in /usr/local/lib/python3.7/dist-packages (from pytorch-lightning) (1.21.6)\n",
            "Requirement already satisfied: torch>=1.8.* in /usr/local/lib/python3.7/dist-packages (from pytorch-lightning) (1.11.0+cu113)\n",
            "Requirement already satisfied: PyYAML>=5.4 in /usr/local/lib/python3.7/dist-packages (from pytorch-lightning) (6.0)\n",
            "Requirement already satisfied: aiohttp in /usr/local/lib/python3.7/dist-packages (from fsspec[http]!=2021.06.0,>=2021.05.0->pytorch-lightning) (3.8.1)\n",
            "Requirement already satisfied: requests in /usr/local/lib/python3.7/dist-packages (from fsspec[http]!=2021.06.0,>=2021.05.0->pytorch-lightning) (2.23.0)\n",
            "Requirement already satisfied: pyparsing!=3.0.5,>=2.0.2 in /usr/local/lib/python3.7/dist-packages (from packaging>=17.0->pytorch-lightning) (3.0.9)\n",
            "Requirement already satisfied: six>=1.9 in /usr/local/lib/python3.7/dist-packages (from protobuf<=3.20.1->pytorch-lightning) (1.15.0)\n",
            "Requirement already satisfied: grpcio>=1.24.3 in /usr/local/lib/python3.7/dist-packages (from tensorboard>=2.2.0->pytorch-lightning) (1.46.3)\n",
            "Requirement already satisfied: google-auth-oauthlib<0.5,>=0.4.1 in /usr/local/lib/python3.7/dist-packages (from tensorboard>=2.2.0->pytorch-lightning) (0.4.6)\n",
            "Requirement already satisfied: setuptools>=41.0.0 in /usr/local/lib/python3.7/dist-packages (from tensorboard>=2.2.0->pytorch-lightning) (57.4.0)\n",
            "Requirement already satisfied: tensorboard-plugin-wit>=1.6.0 in /usr/local/lib/python3.7/dist-packages (from tensorboard>=2.2.0->pytorch-lightning) (1.8.1)\n",
            "Requirement already satisfied: werkzeug>=0.11.15 in /usr/local/lib/python3.7/dist-packages (from tensorboard>=2.2.0->pytorch-lightning) (1.0.1)\n",
            "Requirement already satisfied: absl-py>=0.4 in /usr/local/lib/python3.7/dist-packages (from tensorboard>=2.2.0->pytorch-lightning) (1.1.0)\n",
            "Requirement already satisfied: google-auth<3,>=1.6.3 in /usr/local/lib/python3.7/dist-packages (from tensorboard>=2.2.0->pytorch-lightning) (1.35.0)\n",
            "Requirement already satisfied: tensorboard-data-server<0.7.0,>=0.6.0 in /usr/local/lib/python3.7/dist-packages (from tensorboard>=2.2.0->pytorch-lightning) (0.6.1)\n",
            "Requirement already satisfied: wheel>=0.26 in /usr/local/lib/python3.7/dist-packages (from tensorboard>=2.2.0->pytorch-lightning) (0.37.1)\n",
            "Requirement already satisfied: markdown>=2.6.8 in /usr/local/lib/python3.7/dist-packages (from tensorboard>=2.2.0->pytorch-lightning) (3.3.7)\n",
            "Requirement already satisfied: cachetools<5.0,>=2.0.0 in /usr/local/lib/python3.7/dist-packages (from google-auth<3,>=1.6.3->tensorboard>=2.2.0->pytorch-lightning) (4.2.4)\n",
            "Requirement already satisfied: pyasn1-modules>=0.2.1 in /usr/local/lib/python3.7/dist-packages (from google-auth<3,>=1.6.3->tensorboard>=2.2.0->pytorch-lightning) (0.2.8)\n",
            "Requirement already satisfied: rsa<5,>=3.1.4 in /usr/local/lib/python3.7/dist-packages (from google-auth<3,>=1.6.3->tensorboard>=2.2.0->pytorch-lightning) (4.8)\n",
            "Requirement already satisfied: requests-oauthlib>=0.7.0 in /usr/local/lib/python3.7/dist-packages (from google-auth-oauthlib<0.5,>=0.4.1->tensorboard>=2.2.0->pytorch-lightning) (1.3.1)\n",
            "Requirement already satisfied: importlib-metadata>=4.4 in /usr/local/lib/python3.7/dist-packages (from markdown>=2.6.8->tensorboard>=2.2.0->pytorch-lightning) (4.11.4)\n",
            "Requirement already satisfied: zipp>=0.5 in /usr/local/lib/python3.7/dist-packages (from importlib-metadata>=4.4->markdown>=2.6.8->tensorboard>=2.2.0->pytorch-lightning) (3.8.0)\n",
            "Requirement already satisfied: pyasn1<0.5.0,>=0.4.6 in /usr/local/lib/python3.7/dist-packages (from pyasn1-modules>=0.2.1->google-auth<3,>=1.6.3->tensorboard>=2.2.0->pytorch-lightning) (0.4.8)\n",
            "Requirement already satisfied: chardet<4,>=3.0.2 in /usr/local/lib/python3.7/dist-packages (from requests->fsspec[http]!=2021.06.0,>=2021.05.0->pytorch-lightning) (3.0.4)\n",
            "Requirement already satisfied: urllib3!=1.25.0,!=1.25.1,<1.26,>=1.21.1 in /usr/local/lib/python3.7/dist-packages (from requests->fsspec[http]!=2021.06.0,>=2021.05.0->pytorch-lightning) (1.24.3)\n",
            "Requirement already satisfied: idna<3,>=2.5 in /usr/local/lib/python3.7/dist-packages (from requests->fsspec[http]!=2021.06.0,>=2021.05.0->pytorch-lightning) (2.10)\n",
            "Requirement already satisfied: certifi>=2017.4.17 in /usr/local/lib/python3.7/dist-packages (from requests->fsspec[http]!=2021.06.0,>=2021.05.0->pytorch-lightning) (2022.6.15)\n",
            "Requirement already satisfied: oauthlib>=3.0.0 in /usr/local/lib/python3.7/dist-packages (from requests-oauthlib>=0.7.0->google-auth-oauthlib<0.5,>=0.4.1->tensorboard>=2.2.0->pytorch-lightning) (3.2.0)\n",
            "Requirement already satisfied: attrs>=17.3.0 in /usr/local/lib/python3.7/dist-packages (from aiohttp->fsspec[http]!=2021.06.0,>=2021.05.0->pytorch-lightning) (21.4.0)\n",
            "Requirement already satisfied: multidict<7.0,>=4.5 in /usr/local/lib/python3.7/dist-packages (from aiohttp->fsspec[http]!=2021.06.0,>=2021.05.0->pytorch-lightning) (6.0.2)\n",
            "Requirement already satisfied: yarl<2.0,>=1.0 in /usr/local/lib/python3.7/dist-packages (from aiohttp->fsspec[http]!=2021.06.0,>=2021.05.0->pytorch-lightning) (1.7.2)\n",
            "Requirement already satisfied: asynctest==0.13.0 in /usr/local/lib/python3.7/dist-packages (from aiohttp->fsspec[http]!=2021.06.0,>=2021.05.0->pytorch-lightning) (0.13.0)\n",
            "Requirement already satisfied: async-timeout<5.0,>=4.0.0a3 in /usr/local/lib/python3.7/dist-packages (from aiohttp->fsspec[http]!=2021.06.0,>=2021.05.0->pytorch-lightning) (4.0.2)\n",
            "Requirement already satisfied: frozenlist>=1.1.1 in /usr/local/lib/python3.7/dist-packages (from aiohttp->fsspec[http]!=2021.06.0,>=2021.05.0->pytorch-lightning) (1.3.0)\n",
            "Requirement already satisfied: aiosignal>=1.1.2 in /usr/local/lib/python3.7/dist-packages (from aiohttp->fsspec[http]!=2021.06.0,>=2021.05.0->pytorch-lightning) (1.2.0)\n",
            "Requirement already satisfied: charset-normalizer<3.0,>=2.0 in /usr/local/lib/python3.7/dist-packages (from aiohttp->fsspec[http]!=2021.06.0,>=2021.05.0->pytorch-lightning) (2.0.12)\n",
            "Looking in indexes: https://pypi.org/simple, https://us-python.pkg.dev/colab-wheels/public/simple/\n",
            "Requirement already satisfied: mirdata in /usr/local/lib/python3.7/dist-packages (0.3.6)\n",
            "Requirement already satisfied: scikit-learn in /usr/local/lib/python3.7/dist-packages (1.0.2)\n",
            "Requirement already satisfied: chardet in /usr/local/lib/python3.7/dist-packages (from mirdata) (3.0.4)\n",
            "Requirement already satisfied: smart-open>=5.0.0 in /usr/local/lib/python3.7/dist-packages (from mirdata) (5.2.1)\n",
            "Requirement already satisfied: pretty-midi>=0.2.8 in /usr/local/lib/python3.7/dist-packages (from mirdata) (0.2.9)\n",
            "Requirement already satisfied: librosa>=0.8.0 in /usr/local/lib/python3.7/dist-packages (from mirdata) (0.9.1)\n",
            "Requirement already satisfied: h5py>=2.10.0 in /usr/local/lib/python3.7/dist-packages (from mirdata) (3.1.0)\n",
            "Requirement already satisfied: requests in /usr/local/lib/python3.7/dist-packages (from mirdata) (2.23.0)\n",
            "Requirement already satisfied: jams in /usr/local/lib/python3.7/dist-packages (from mirdata) (0.3.4)\n",
            "Requirement already satisfied: Deprecated>=1.2.13 in /usr/local/lib/python3.7/dist-packages (from mirdata) (1.2.13)\n",
            "Requirement already satisfied: tqdm in /usr/local/lib/python3.7/dist-packages (from mirdata) (4.64.0)\n",
            "Requirement already satisfied: scipy in /usr/local/lib/python3.7/dist-packages (from mirdata) (1.4.1)\n",
            "Requirement already satisfied: pyyaml in /usr/local/lib/python3.7/dist-packages (from mirdata) (6.0)\n",
            "Requirement already satisfied: numpy>=1.16 in /usr/local/lib/python3.7/dist-packages (from mirdata) (1.21.6)\n",
            "Requirement already satisfied: wrapt<2,>=1.10 in /usr/local/lib/python3.7/dist-packages (from Deprecated>=1.2.13->mirdata) (1.14.1)\n",
            "Requirement already satisfied: cached-property in /usr/local/lib/python3.7/dist-packages (from h5py>=2.10.0->mirdata) (1.5.2)\n",
            "Requirement already satisfied: audioread>=2.1.5 in /usr/local/lib/python3.7/dist-packages (from librosa>=0.8.0->mirdata) (2.1.9)\n",
            "Requirement already satisfied: decorator>=4.0.10 in /usr/local/lib/python3.7/dist-packages (from librosa>=0.8.0->mirdata) (4.4.2)\n",
            "Requirement already satisfied: joblib>=0.14 in /usr/local/lib/python3.7/dist-packages (from librosa>=0.8.0->mirdata) (1.1.0)\n",
            "Requirement already satisfied: packaging>=20.0 in /usr/local/lib/python3.7/dist-packages (from librosa>=0.8.0->mirdata) (21.3)\n",
            "Requirement already satisfied: soundfile>=0.10.2 in /usr/local/lib/python3.7/dist-packages (from librosa>=0.8.0->mirdata) (0.10.3.post1)\n",
            "Requirement already satisfied: resampy>=0.2.2 in /usr/local/lib/python3.7/dist-packages (from librosa>=0.8.0->mirdata) (0.2.2)\n",
            "Requirement already satisfied: pooch>=1.0 in /usr/local/lib/python3.7/dist-packages (from librosa>=0.8.0->mirdata) (1.6.0)\n",
            "Requirement already satisfied: numba>=0.45.1 in /usr/local/lib/python3.7/dist-packages (from librosa>=0.8.0->mirdata) (0.51.2)\n",
            "Requirement already satisfied: threadpoolctl>=2.0.0 in /usr/local/lib/python3.7/dist-packages (from scikit-learn) (3.1.0)\n",
            "Requirement already satisfied: llvmlite<0.35,>=0.34.0.dev0 in /usr/local/lib/python3.7/dist-packages (from numba>=0.45.1->librosa>=0.8.0->mirdata) (0.34.0)\n",
            "Requirement already satisfied: setuptools in /usr/local/lib/python3.7/dist-packages (from numba>=0.45.1->librosa>=0.8.0->mirdata) (57.4.0)\n",
            "Requirement already satisfied: pyparsing!=3.0.5,>=2.0.2 in /usr/local/lib/python3.7/dist-packages (from packaging>=20.0->librosa>=0.8.0->mirdata) (3.0.9)\n",
            "Requirement already satisfied: appdirs>=1.3.0 in /usr/local/lib/python3.7/dist-packages (from pooch>=1.0->librosa>=0.8.0->mirdata) (1.4.4)\n",
            "Requirement already satisfied: mido>=1.1.16 in /usr/local/lib/python3.7/dist-packages (from pretty-midi>=0.2.8->mirdata) (1.2.10)\n",
            "Requirement already satisfied: six in /usr/local/lib/python3.7/dist-packages (from pretty-midi>=0.2.8->mirdata) (1.15.0)\n",
            "Requirement already satisfied: urllib3!=1.25.0,!=1.25.1,<1.26,>=1.21.1 in /usr/local/lib/python3.7/dist-packages (from requests->mirdata) (1.24.3)\n",
            "Requirement already satisfied: idna<3,>=2.5 in /usr/local/lib/python3.7/dist-packages (from requests->mirdata) (2.10)\n",
            "Requirement already satisfied: certifi>=2017.4.17 in /usr/local/lib/python3.7/dist-packages (from requests->mirdata) (2022.6.15)\n",
            "Requirement already satisfied: cffi>=1.0 in /usr/local/lib/python3.7/dist-packages (from soundfile>=0.10.2->librosa>=0.8.0->mirdata) (1.15.0)\n",
            "Requirement already satisfied: pycparser in /usr/local/lib/python3.7/dist-packages (from cffi>=1.0->soundfile>=0.10.2->librosa>=0.8.0->mirdata) (2.21)\n",
            "Requirement already satisfied: jsonschema>=3.0.0 in /usr/local/lib/python3.7/dist-packages (from jams->mirdata) (4.3.3)\n",
            "Requirement already satisfied: pandas in /usr/local/lib/python3.7/dist-packages (from jams->mirdata) (1.3.1)\n",
            "Requirement already satisfied: sortedcontainers>=2.0.0 in /usr/local/lib/python3.7/dist-packages (from jams->mirdata) (2.4.0)\n",
            "Requirement already satisfied: mir-eval>=0.5 in /usr/local/lib/python3.7/dist-packages (from jams->mirdata) (0.7)\n",
            "Requirement already satisfied: attrs>=17.4.0 in /usr/local/lib/python3.7/dist-packages (from jsonschema>=3.0.0->jams->mirdata) (21.4.0)\n",
            "Requirement already satisfied: importlib-resources>=1.4.0 in /usr/local/lib/python3.7/dist-packages (from jsonschema>=3.0.0->jams->mirdata) (5.7.1)\n",
            "Requirement already satisfied: typing-extensions in /usr/local/lib/python3.7/dist-packages (from jsonschema>=3.0.0->jams->mirdata) (4.1.1)\n",
            "Requirement already satisfied: pyrsistent!=0.17.0,!=0.17.1,!=0.17.2,>=0.14.0 in /usr/local/lib/python3.7/dist-packages (from jsonschema>=3.0.0->jams->mirdata) (0.18.1)\n",
            "Requirement already satisfied: importlib-metadata in /usr/local/lib/python3.7/dist-packages (from jsonschema>=3.0.0->jams->mirdata) (4.11.4)\n",
            "Requirement already satisfied: zipp>=3.1.0 in /usr/local/lib/python3.7/dist-packages (from importlib-resources>=1.4.0->jsonschema>=3.0.0->jams->mirdata) (3.8.0)\n",
            "Requirement already satisfied: future in /usr/local/lib/python3.7/dist-packages (from mir-eval>=0.5->jams->mirdata) (0.16.0)\n",
            "Requirement already satisfied: pytz>=2017.3 in /usr/local/lib/python3.7/dist-packages (from pandas->jams->mirdata) (2022.1)\n",
            "Requirement already satisfied: python-dateutil>=2.7.3 in /usr/local/lib/python3.7/dist-packages (from pandas->jams->mirdata) (2.8.2)\n",
            "Looking in indexes: https://pypi.org/simple, https://us-python.pkg.dev/colab-wheels/public/simple/\n",
            "Requirement already satisfied: torchmetrics in /usr/local/lib/python3.7/dist-packages (0.9.1)\n",
            "Requirement already satisfied: torch>=1.3.1 in /usr/local/lib/python3.7/dist-packages (from torchmetrics) (1.11.0+cu113)\n",
            "Requirement already satisfied: typing-extensions in /usr/local/lib/python3.7/dist-packages (from torchmetrics) (4.1.1)\n",
            "Requirement already satisfied: packaging in /usr/local/lib/python3.7/dist-packages (from torchmetrics) (21.3)\n",
            "Requirement already satisfied: numpy>=1.17.2 in /usr/local/lib/python3.7/dist-packages (from torchmetrics) (1.21.6)\n",
            "Requirement already satisfied: pyparsing!=3.0.5,>=2.0.2 in /usr/local/lib/python3.7/dist-packages (from packaging->torchmetrics) (3.0.9)\n",
            "Looking in indexes: https://pypi.org/simple, https://us-python.pkg.dev/colab-wheels/public/simple/\n",
            "Requirement already satisfied: gdown in /usr/local/lib/python3.7/dist-packages (4.4.0)\n",
            "Requirement already satisfied: requests[socks] in /usr/local/lib/python3.7/dist-packages (from gdown) (2.23.0)\n",
            "Requirement already satisfied: beautifulsoup4 in /usr/local/lib/python3.7/dist-packages (from gdown) (4.6.3)\n",
            "Requirement already satisfied: six in /usr/local/lib/python3.7/dist-packages (from gdown) (1.15.0)\n",
            "Requirement already satisfied: filelock in /usr/local/lib/python3.7/dist-packages (from gdown) (3.7.1)\n",
            "Requirement already satisfied: tqdm in /usr/local/lib/python3.7/dist-packages (from gdown) (4.64.0)\n",
            "Requirement already satisfied: urllib3!=1.25.0,!=1.25.1,<1.26,>=1.21.1 in /usr/local/lib/python3.7/dist-packages (from requests[socks]->gdown) (1.24.3)\n",
            "Requirement already satisfied: chardet<4,>=3.0.2 in /usr/local/lib/python3.7/dist-packages (from requests[socks]->gdown) (3.0.4)\n",
            "Requirement already satisfied: certifi>=2017.4.17 in /usr/local/lib/python3.7/dist-packages (from requests[socks]->gdown) (2022.6.15)\n",
            "Requirement already satisfied: idna<3,>=2.5 in /usr/local/lib/python3.7/dist-packages (from requests[socks]->gdown) (2.10)\n",
            "Requirement already satisfied: PySocks!=1.5.7,>=1.5.6 in /usr/local/lib/python3.7/dist-packages (from requests[socks]->gdown) (1.7.1)\n"
          ]
        }
      ],
      "source": [
        "# deep learning & mir\n",
        "!pip install torch torchvision torchaudio\n",
        "!pip uninstall -y torchtext\n",
        "!pip install pytorch-lightning\n",
        "!pip install mirdata scikit-learn\n",
        "!pip install torchmetrics\n",
        "\n",
        "# download data\n",
        "!pip install gdown\n"
      ]
    },
    {
      "cell_type": "markdown",
      "source": [
        "## Set up ssh access\n",
        "\n",
        "From https://colab.research.google.com/drive/1A5ocDslM9ZTo1pbt6klaV4Uo0LVjx3kF?usp=sharing#scrollTo=rlDieMPTq7Sz\n",
        "\n",
        "Below commands are commented out so we don't generate the key unless needed. Uncomment and run them if you want to create a new key"
      ],
      "metadata": {
        "id": "e7bFh-6NwEbQ"
      }
    },
    {
      "cell_type": "markdown",
      "source": [
        "!ssh-keygen -t rsa -b 4096d  \n",
        "!ssh-keyscan -t rsa github.com >> ~/.ssh/known_hosts  \n",
        "!cat /root/.ssh/id_rsa.pub \n"
      ],
      "metadata": {
        "id": "UALI0UsJwDxn"
      }
    },
    {
      "cell_type": "markdown",
      "source": [
        "Copy the key above and add it here: https://github.com/settings/keys\n",
        "\n",
        "Then make sure the key works, and set up your user."
      ],
      "metadata": {
        "id": "5hDQCYW8yDoi"
      }
    },
    {
      "cell_type": "markdown",
      "source": [
        "!ssh -T git@github.com  \n",
        "\n",
        "!git config --global user.email \"contact@sertansenturk.com\"  \n",
        "!git config --global user.name \"Sertan Senturk\"  "
      ],
      "metadata": {
        "id": "GmIC1F2lyCjE"
      }
    },
    {
      "cell_type": "markdown",
      "source": [
        "## Install the repo\n",
        "\n",
        "**Important:** The repo is private; make sure you have ssh access to Github."
      ],
      "metadata": {
        "id": "0-J7PJv2jMmM"
      }
    },
    {
      "cell_type": "code",
      "source": [
        "!git clone git@github.com:sertansenturk/utopia_challenge.git\n",
        "%cd /content/utopia_challenge"
      ],
      "metadata": {
        "colab": {
          "base_uri": "https://localhost:8080/"
        },
        "id": "rI4w6mIvy9mc",
        "outputId": "a65ebde6-a88a-42e8-cb37-06d8f755307a"
      },
      "execution_count": 67,
      "outputs": [
        {
          "output_type": "stream",
          "name": "stdout",
          "text": [
            "Cloning into 'utopia_challenge'...\n",
            "remote: Enumerating objects: 745, done.\u001b[K\n",
            "remote: Counting objects: 100% (294/294), done.\u001b[K\n",
            "remote: Compressing objects: 100% (164/164), done.\u001b[K\n",
            "remote: Total 745 (delta 176), reused 204 (delta 109), pack-reused 451\u001b[K\n",
            "Receiving objects: 100% (745/745), 82.84 MiB | 11.25 MiB/s, done.\n",
            "Resolving deltas: 100% (378/378), done.\n",
            "/content/utopia_challenge\n"
          ]
        }
      ]
    },
    {
      "cell_type": "code",
      "source": [
        "!pip install -r requirements.txt\n",
        "!pip install .\n",
        "!pwd"
      ],
      "metadata": {
        "colab": {
          "base_uri": "https://localhost:8080/"
        },
        "id": "pzR1orizxNNO",
        "outputId": "b8872cc5-01bb-4798-a7f6-7968f04fb1d4"
      },
      "execution_count": null,
      "outputs": [
        {
          "output_type": "stream",
          "name": "stdout",
          "text": [
            "Looking in indexes: https://pypi.org/simple, https://us-python.pkg.dev/colab-wheels/public/simple/\n",
            "Requirement already satisfied: iterative-stratification==0.1.7 in /usr/local/lib/python3.7/dist-packages (from -r requirements.txt (line 1)) (0.1.7)\n",
            "Requirement already satisfied: librosa==0.9.1 in /usr/local/lib/python3.7/dist-packages (from -r requirements.txt (line 3)) (0.9.1)\n",
            "Requirement already satisfied: pandas==1.3.1 in /usr/local/lib/python3.7/dist-packages (from -r requirements.txt (line 4)) (1.3.1)\n",
            "Requirement already satisfied: pyyaml==6.0 in /usr/local/lib/python3.7/dist-packages (from -r requirements.txt (line 5)) (6.0)\n",
            "Requirement already satisfied: scipy in /usr/local/lib/python3.7/dist-packages (from iterative-stratification==0.1.7->-r requirements.txt (line 1)) (1.4.1)\n",
            "Requirement already satisfied: scikit-learn in /usr/local/lib/python3.7/dist-packages (from iterative-stratification==0.1.7->-r requirements.txt (line 1)) (1.0.2)\n",
            "Requirement already satisfied: numpy in /usr/local/lib/python3.7/dist-packages (from iterative-stratification==0.1.7->-r requirements.txt (line 1)) (1.21.6)\n",
            "Requirement already satisfied: audioread>=2.1.5 in /usr/local/lib/python3.7/dist-packages (from librosa==0.9.1->-r requirements.txt (line 3)) (2.1.9)\n",
            "Requirement already satisfied: decorator>=4.0.10 in /usr/local/lib/python3.7/dist-packages (from librosa==0.9.1->-r requirements.txt (line 3)) (4.4.2)\n",
            "Requirement already satisfied: numba>=0.45.1 in /usr/local/lib/python3.7/dist-packages (from librosa==0.9.1->-r requirements.txt (line 3)) (0.51.2)\n",
            "Requirement already satisfied: packaging>=20.0 in /usr/local/lib/python3.7/dist-packages (from librosa==0.9.1->-r requirements.txt (line 3)) (21.3)\n",
            "Requirement already satisfied: soundfile>=0.10.2 in /usr/local/lib/python3.7/dist-packages (from librosa==0.9.1->-r requirements.txt (line 3)) (0.10.3.post1)\n",
            "Requirement already satisfied: joblib>=0.14 in /usr/local/lib/python3.7/dist-packages (from librosa==0.9.1->-r requirements.txt (line 3)) (1.1.0)\n",
            "Requirement already satisfied: resampy>=0.2.2 in /usr/local/lib/python3.7/dist-packages (from librosa==0.9.1->-r requirements.txt (line 3)) (0.2.2)\n",
            "Requirement already satisfied: pooch>=1.0 in /usr/local/lib/python3.7/dist-packages (from librosa==0.9.1->-r requirements.txt (line 3)) (1.6.0)\n",
            "Requirement already satisfied: pytz>=2017.3 in /usr/local/lib/python3.7/dist-packages (from pandas==1.3.1->-r requirements.txt (line 4)) (2022.1)\n",
            "Requirement already satisfied: python-dateutil>=2.7.3 in /usr/local/lib/python3.7/dist-packages (from pandas==1.3.1->-r requirements.txt (line 4)) (2.8.2)\n",
            "Requirement already satisfied: llvmlite<0.35,>=0.34.0.dev0 in /usr/local/lib/python3.7/dist-packages (from numba>=0.45.1->librosa==0.9.1->-r requirements.txt (line 3)) (0.34.0)\n",
            "Requirement already satisfied: setuptools in /usr/local/lib/python3.7/dist-packages (from numba>=0.45.1->librosa==0.9.1->-r requirements.txt (line 3)) (57.4.0)\n",
            "Requirement already satisfied: pyparsing!=3.0.5,>=2.0.2 in /usr/local/lib/python3.7/dist-packages (from packaging>=20.0->librosa==0.9.1->-r requirements.txt (line 3)) (3.0.9)\n",
            "Requirement already satisfied: appdirs>=1.3.0 in /usr/local/lib/python3.7/dist-packages (from pooch>=1.0->librosa==0.9.1->-r requirements.txt (line 3)) (1.4.4)\n",
            "Requirement already satisfied: requests>=2.19.0 in /usr/local/lib/python3.7/dist-packages (from pooch>=1.0->librosa==0.9.1->-r requirements.txt (line 3)) (2.23.0)\n",
            "Requirement already satisfied: six>=1.5 in /usr/local/lib/python3.7/dist-packages (from python-dateutil>=2.7.3->pandas==1.3.1->-r requirements.txt (line 4)) (1.15.0)\n",
            "Requirement already satisfied: idna<3,>=2.5 in /usr/local/lib/python3.7/dist-packages (from requests>=2.19.0->pooch>=1.0->librosa==0.9.1->-r requirements.txt (line 3)) (2.10)\n",
            "Requirement already satisfied: certifi>=2017.4.17 in /usr/local/lib/python3.7/dist-packages (from requests>=2.19.0->pooch>=1.0->librosa==0.9.1->-r requirements.txt (line 3)) (2022.6.15)\n",
            "Requirement already satisfied: chardet<4,>=3.0.2 in /usr/local/lib/python3.7/dist-packages (from requests>=2.19.0->pooch>=1.0->librosa==0.9.1->-r requirements.txt (line 3)) (3.0.4)\n",
            "Requirement already satisfied: urllib3!=1.25.0,!=1.25.1,<1.26,>=1.21.1 in /usr/local/lib/python3.7/dist-packages (from requests>=2.19.0->pooch>=1.0->librosa==0.9.1->-r requirements.txt (line 3)) (1.24.3)\n",
            "Requirement already satisfied: threadpoolctl>=2.0.0 in /usr/local/lib/python3.7/dist-packages (from scikit-learn->iterative-stratification==0.1.7->-r requirements.txt (line 1)) (3.1.0)\n",
            "Requirement already satisfied: cffi>=1.0 in /usr/local/lib/python3.7/dist-packages (from soundfile>=0.10.2->librosa==0.9.1->-r requirements.txt (line 3)) (1.15.0)\n",
            "Requirement already satisfied: pycparser in /usr/local/lib/python3.7/dist-packages (from cffi>=1.0->soundfile>=0.10.2->librosa==0.9.1->-r requirements.txt (line 3)) (2.21)\n",
            "Looking in indexes: https://pypi.org/simple, https://us-python.pkg.dev/colab-wheels/public/simple/\n",
            "Processing /content/utopia_challenge\n",
            "\u001b[33m  DEPRECATION: A future pip version will change local packages to be built in-place without first copying to a temporary directory. We recommend you use --use-feature=in-tree-build to test your packages with this new behavior before it becomes the default.\n",
            "   pip 21.3 will remove support for this functionality. You can find discussion regarding this at https://github.com/pypa/pip/issues/7555.\u001b[0m\n",
            "Building wheels for collected packages: multilabel-tagger\n",
            "  Building wheel for multilabel-tagger (setup.py) ... \u001b[?25l\u001b[?25hdone\n",
            "  Created wheel for multilabel-tagger: filename=multilabel_tagger-0.2.0-py3-none-any.whl size=7752 sha256=edf4b6fb852267ce38cae2f2bb703d6a0fbfce12766d5fef8f43b2eb0e33c4cb\n",
            "  Stored in directory: /tmp/pip-ephem-wheel-cache-vkygrdwp/wheels/dd/bb/f6/89359feae04f4aa2b21d96bdbbfb99512ed00bfb9f435f3017\n",
            "Successfully built multilabel-tagger\n",
            "Installing collected packages: multilabel-tagger\n",
            "  Attempting uninstall: multilabel-tagger\n",
            "    Found existing installation: multilabel-tagger 0.2.0\n",
            "    Uninstalling multilabel-tagger-0.2.0:\n",
            "      Successfully uninstalled multilabel-tagger-0.2.0\n",
            "Successfully installed multilabel-tagger-0.2.0\n",
            "/content/utopia_challenge\n"
          ]
        }
      ]
    },
    {
      "cell_type": "markdown",
      "metadata": {
        "id": "IBrIMBt6Jm34"
      },
      "source": [
        "We import the packages and we set the random_seed for our experiments. The random seed makes sure the experiment is reproducible on this environment.\n",
        "\n",
        "We use mirdata to load the datasets, sklearn for data partitioning, torchaudio to load and transform audio files, and pytorch lightning on top of pytorch for machine learning. "
      ]
    },
    {
      "cell_type": "code",
      "execution_count": null,
      "metadata": {
        "id": "pK5QL1yMHFmx"
      },
      "outputs": [],
      "source": [
        "import random\n",
        "\n",
        "from typing import Dict, List, Tuple, Union\n",
        "from pathlib import Path\n",
        "\n",
        "import IPython\n",
        "import mirdata\n",
        "import numpy as np\n",
        "import pandas as pd\n",
        "import sklearn\n",
        "import torch\n",
        "import torchaudio\n",
        "import pytorch_lightning as pl\n",
        "import torchmetrics\n",
        "\n",
        "import multilabel_tagger as mlt\n"
      ]
    },
    {
      "cell_type": "code",
      "source": [
        "RANDOM_SEED = 42  # life, universe and everything\n",
        "pl.utilities.seed.seed_everything(seed=RANDOM_SEED)"
      ],
      "metadata": {
        "colab": {
          "base_uri": "https://localhost:8080/"
        },
        "id": "9EjKiQxDgCGI",
        "outputId": "5ccdd318-adae-4622-bb10-bec5183ce73b"
      },
      "execution_count": null,
      "outputs": [
        {
          "output_type": "stream",
          "name": "stderr",
          "text": [
            "Global seed set to 42\n"
          ]
        },
        {
          "output_type": "execute_result",
          "data": {
            "text/plain": [
              "42"
            ]
          },
          "metadata": {},
          "execution_count": 6
        }
      ]
    },
    {
      "cell_type": "code",
      "source": [
        "logger = mlt.logging_utils.get_jupyter_logger(name = __name__)\n",
        "logger.info(\"init logger\")"
      ],
      "metadata": {
        "colab": {
          "base_uri": "https://localhost:8080/"
        },
        "id": "hzAYq8HdifSO",
        "outputId": "04b71f40-5430-4608-afc3-184f45ef0819"
      },
      "execution_count": null,
      "outputs": [
        {
          "output_type": "stream",
          "name": "stderr",
          "text": [
            "INFO:__main__:init logger\n"
          ]
        }
      ]
    },
    {
      "cell_type": "markdown",
      "metadata": {
        "id": "pokcYI_tK2rO"
      },
      "source": [
        "## Data processing"
      ]
    },
    {
      "cell_type": "markdown",
      "source": [
        "### Prepare annotations\n",
        "\n",
        "We first need to preprocess the anntoations (e.g. binarize tag strengths, remove untagged recordings) and then split the data into train & test.\n",
        "\n",
        "I call the correspondings steps in `multilabel_tagger` to prepare the annotations."
      ],
      "metadata": {
        "id": "im0B1jxjyjSQ"
      }
    },
    {
      "cell_type": "code",
      "source": [
        "!mlt --config tagger_config.yml process_annotations\n"
      ],
      "metadata": {
        "colab": {
          "base_uri": "https://localhost:8080/"
        },
        "id": "Kq6tgMqstOMR",
        "outputId": "c9664a94-6a21-4cbd-efc2-ef02e3c7c8e3"
      },
      "execution_count": null,
      "outputs": [
        {
          "output_type": "stream",
          "name": "stdout",
          "text": [
            "INFO:multilabel_tagger.driver:Configuration:\n",
            "process_annotations:\n",
            "    input_path: ./data/inputs/musimotion_testset_annotations_cut.csv \n",
            "    processed_path: ./data/interim/process_annotations/processed_annotations.csv\n",
            "    info_path: ./data/interim/process_annotations/processed_annotations-info.json\n",
            "    process_strength_method: binarize\n",
            "    uncommon_tag_discard_ratio: 0.04\n",
            "split_train_test:\n",
            "    train_split_path: ./data/interim/split_train_test/train/train_split.csv\n",
            "    test_split_path: ./data/interim/split_train_test/test/test_split.csv\n",
            "    train_split_info_path: ./data/interim/split_train_test/train/train_split-info.json\n",
            "    test_split_info_path: ./data/interim/split_train_test/test/test_split-info.json\n",
            "    test_size: 0.3\n",
            "    random_state: 42\n",
            "\n",
            "INFO:multilabel_tagger.driver:========= process_annotations ===========\n",
            "INFO:multilabel_tagger.data.annotation:Reading annotations from ./data/inputs/musimotion_testset_annotations_cut.csv.\n",
            "INFO:multilabel_tagger.data.annotation:Processing annotations.\n",
            "INFO:multilabel_tagger.data.annotation:Writing annotations to ./data/interim/process_annotations/processed_annotations.csv\n",
            "INFO:multilabel_tagger.data.annotation_info:Processing annotation info.\n",
            "INFO:multilabel_tagger.data.annotation_info:Writing annotation info to data/interim/process_annotations/processed_annotations-info.json.\n"
          ]
        }
      ]
    },
    {
      "cell_type": "code",
      "source": [
        "!mlt --config tagger_config.yml split_train_test\n"
      ],
      "metadata": {
        "colab": {
          "base_uri": "https://localhost:8080/"
        },
        "id": "URaXqdMZXgKs",
        "outputId": "1b3605eb-27c1-4cf6-c90f-a870ce85868e"
      },
      "execution_count": null,
      "outputs": [
        {
          "output_type": "stream",
          "name": "stdout",
          "text": [
            "INFO:multilabel_tagger.driver:Configuration:\n",
            "process_annotations:\n",
            "    input_path: ./data/inputs/musimotion_testset_annotations_cut.csv \n",
            "    processed_path: ./data/interim/process_annotations/processed_annotations.csv\n",
            "    info_path: ./data/interim/process_annotations/processed_annotations-info.json\n",
            "    process_strength_method: binarize\n",
            "    uncommon_tag_discard_ratio: 0.04\n",
            "split_train_test:\n",
            "    train_split_path: ./data/interim/split_train_test/train/train_split.csv\n",
            "    test_split_path: ./data/interim/split_train_test/test/test_split.csv\n",
            "    train_split_info_path: ./data/interim/split_train_test/train/train_split-info.json\n",
            "    test_split_info_path: ./data/interim/split_train_test/test/test_split-info.json\n",
            "    test_size: 0.3\n",
            "    random_state: 42\n",
            "\n",
            "INFO:multilabel_tagger.driver:========= split_train_test ===========\n",
            "INFO:multilabel_tagger.data.annotation:Reading annotations from ./data/interim/process_annotations/processed_annotations.csv.\n",
            "INFO:multilabel_tagger.data.dataset_splitter:Splitting the dataset into train and test splits with test_size: 0.300000, random_state: 42.\n",
            "INFO:multilabel_tagger.data.annotation:Writing annotations to ./data/interim/split_train_test/train/train_split.csv\n",
            "INFO:multilabel_tagger.data.annotation:Writing annotations to ./data/interim/split_train_test/test/test_split.csv\n",
            "INFO:multilabel_tagger.data.annotation_info:Processing annotation info.\n",
            "INFO:multilabel_tagger.data.annotation_info:Writing annotation info to data/interim/split_train_test/train/train_split-info.json.\n",
            "INFO:multilabel_tagger.data.annotation_info:Processing annotation info.\n",
            "INFO:multilabel_tagger.data.annotation_info:Writing annotation info to data/interim/split_train_test/test/test_split-info.json.\n"
          ]
        }
      ]
    },
    {
      "cell_type": "code",
      "source": [
        "SPLIT_PATHS = {\n",
        "    \"train\": Path(\"data/interim/split_train_test/train/train_split.csv\"),\n",
        "    \"test\": Path(\"data/interim/split_train_test/test/test_split.csv\")\n",
        "}"
      ],
      "metadata": {
        "id": "fwz8FyVlX2Wg"
      },
      "execution_count": null,
      "outputs": []
    },
    {
      "cell_type": "markdown",
      "source": [
        "### Download audio data from GDrive\n",
        "\n",
        "The audio recordings are stored in https://drive.google.com/uc?id=1AOZ8IwNo8nSbIRFr8rqzjnbQQ2bnxKNN as a tar.gz file. We download the dataset and uncompress to `./data/inputs/musimotion_youtube_subtestset`.\n"
      ],
      "metadata": {
        "id": "WcPb6722ZyGq"
      }
    },
    {
      "cell_type": "code",
      "source": [
        "!gdown https://drive.google.com/uc?id=1AOZ8IwNo8nSbIRFr8rqzjnbQQ2bnxKNN -O ./data/inputs/\n",
        "!tar -zxf ./data/inputs/musimotion_testset.tar.gz -C ./data/inputs/\n",
        "!ls ./data/inputs/musimotion_youtube_subtestset\n"
      ],
      "metadata": {
        "colab": {
          "base_uri": "https://localhost:8080/"
        },
        "id": "eZr_1WVmZw9v",
        "outputId": "bf74bfbb-56d7-4632-b357-260c8f12075a"
      },
      "execution_count": null,
      "outputs": [
        {
          "output_type": "stream",
          "name": "stdout",
          "text": [
            "Downloading...\n",
            "From: https://drive.google.com/uc?id=1AOZ8IwNo8nSbIRFr8rqzjnbQQ2bnxKNN\n",
            "To: /content/utopia_challenge/data/inputs/musimotion_testset.tar.gz\n",
            "100% 5.49G/5.49G [00:57<00:00, 96.0MB/s]\n",
            "04F4xlWSFh0.mp3  CAFbqlldb4E.mp3  _KhQT-LGb-4.mp3  s6BHQztjkuU.mp3\n",
            "06Ot0DaN1hM.mp3  cao6WyF-61s.mp3  khrx-zrG460.mp3  S87jWwzvwd8.mp3\n",
            "09BB1pci8_o.mp3  cb2w2m1JmCY.mp3  Ki5aS5LSrQM.mp3  SBHucOSjkQs.mp3\n",
            "0fAQhSRLQnM.mp3  cBMAw21l4_k.mp3  kjCW38GFeRA.mp3  ScNgrQ1EXr0.mp3\n",
            "0InCN5ssSeM.mp3  cCRq6NpIP8s.mp3  kJQP7kiw5Fk.mp3  sCQfTNOC5aE.mp3\n",
            "0j64SZhdoa0.mp3  CDmWJbN8bDo.mp3  kK5AohCMX0U.mp3  SDTZ7iX4vTQ.mp3\n",
            "0P2a6aLDkkM.mp3  CdVEwjGLEYk.mp3  KkhGkRahU6g.mp3  Sfg6-4mBs6Y.mp3\n",
            "0t5gbhk4l7k.mp3  cG7cRDcPY3k.mp3  kkJC8p48g6g.mp3  SGWYbkXCcGU.mp3\n",
            "0TNYMvrYrMM.mp3  CgMl5nm1hpg.mp3  kkx-7fsiWgg.mp3  sHVNaitVBlY.mp3\n",
            "0tYBeF4bhNQ.mp3  C_HmbIPdz34.mp3  Kq6DUFqTo7M.mp3  SJsaWXt9GqM.mp3\n",
            "0vo23H9J8o8.mp3  _CI-0E_jses.mp3  KT0jTZAiN-g.mp3  SKSuUOwOMTA.mp3\n",
            "0ZiWKNzUD-0.mp3  CinJuVtdp3Y.mp3  kTjfl0yhyRk.mp3  SldKwr1R0Yk.mp3\n",
            "15FfWj11uys.mp3  _CL6n0FJZpk.mp3  kUGEikZBHvo.mp3  SmHtDQKyBMw.mp3\n",
            "1JRJ5vz7paE.mp3  cNEdxZURTaI.mp3  KvC9V_lBnDQ.mp3  sMq90UAg-Zw.mp3\n",
            "1nNOA2IKqII.mp3  CnI_LuCJ4Ek.mp3  kX3JCrEs_qw.mp3  SoaAb5MnKtY.mp3\n",
            "1Q1Uk68-Cl4.mp3  CNl2IKdV7Q4.mp3  kyquqw6GeXk.mp3  sPKkrYQvAyg.mp3\n",
            "1RHBAd5YUR8.mp3  c-q7Mih69KE.mp3  L1R9uxFsO_k.mp3  SqayDnQ2wmw.mp3\n",
            "1RyOzhdd2Jw.mp3  cqZc7ZQURMs.mp3  l482T0yNkeo.mp3  SUYo8PeO96g.mp3\n",
            "1uPc_6KIerA.mp3  cSGNuQQEMJw.mp3  l4nOHdUntyM.mp3  SviZhEw3LJc.mp3\n",
            "1Upj_Ib30K4.mp3  CSvFpBOe8eY.mp3  L5KQbLToL6g.mp3  SwYN7mTi6HM.mp3\n",
            "2AR93r-ASWI.mp3  C-u5WLJ9Yk4.mp3  l9ml3nyww80.mp3  SydaNY74Nb0.mp3\n",
            "2KMo6WNEZuQ.mp3  Cv9NSR-2DwM.mp3  LaWmjJNG9o0.mp3  SZQzW_QfPew.mp3\n",
            "2krPtELFkks.mp3  cwI0gbGEyuI.mp3  lCtZ-nqXVPc.mp3  T1h1NJMKtnc.mp3\n",
            "2MbMrplJZNQ.mp3  CWTAOwgTbu4.mp3  Le7-euWSdhI.mp3  T1Ond-OwgU8.mp3\n",
            "2NglD0H-cps.mp3  CZXLLMbJdZ4.mp3  lexhv8MaXQ8.mp3  t2zb_iZC6nI.mp3\n",
            "2w_V4H-pxFY.mp3  d5XJ2GiR6Bo.mp3  LGD9i718kBU.mp3  t4H_Zoh7G5A.mp3\n",
            "2XITBuWNROk.mp3  DbgfIxiBKfE.mp3  lHUapMTgWD0.mp3  T6I7NGdNdfY.mp3\n",
            "302oEzSPCqE.mp3  -DJhXFJOFF8.mp3  LJpFkgiPpEk.mp3  t989-ukRYTY.mp3\n",
            "363Nlp3w050.mp3  DLG9pW5-EAc.mp3  LMcDg2HwOnM.mp3  taJWCXQRye0.mp3\n",
            "389fPqjTi9M.mp3  DpIa0KBlLWU.mp3  LMWapO92XwY.mp3  TC9ly3cOMdE.mp3\n",
            "39RBm4tH9cA.mp3  dtd_CF7AvcQ.mp3  LoQHL09L724.mp3  tdsJI8Wc2D4.mp3\n",
            "3dvbLfVRmhE.mp3  DUQ37gAwHtw.mp3  LpIbgBChVgY.mp3  TEdSdtztfLQ.mp3\n",
            "3GeaYy6zlXU.mp3  Dwpd_f4t8U8.mp3  LqOJq0HeZMc.mp3  TEQ6nUBZm3c.mp3\n",
            "3-NlTyuB6gc.mp3  DWZayKSm-10.mp3  LR3GQfryp9M.mp3  TidFfVcIl3E.mp3\n",
            "3onO-Panwkk.mp3  Dxkjj-W801A.mp3  Lrle0x_DHBM.mp3  tIEV1OanDGY.mp3\n",
            "3oUKEOMhx4A.mp3  e8A9J94UWI8.mp3  lRt9jS9PTzQ.mp3  TJGina-Q764.mp3\n",
            "3qoQXgagJC0.mp3  eakT0od-gY0.mp3  lrVlDFVWxK8.mp3  -tJYN-eG1zk.mp3\n",
            "3RrDAI7tFzU.mp3  eAqeA5Hc0K4.mp3  LsTnSjywfWo.mp3  TNpLSaCirj8.mp3\n",
            "3sYUthjyTb8.mp3  EB32uwVNBLs.mp3  LWo_lC8oKk0.mp3  toB5wOvpSos.mp3\n",
            "3tOVd6MA7Sw.mp3  EC7Re8cczj0.mp3  lYAyDg1DunU.mp3  tt8Q8gLJfeI.mp3\n",
            "3TS3Ltbn2bY.mp3  e-GMagL7N7Q.mp3  MC8QcaMMVQE.mp3  TvMS_ykiLiQ.mp3\n",
            "3umaLe37-LE.mp3  eL8vHOAp9E8.mp3  meXPbvp3ldg.mp3  TxH9Dg1JLio.mp3\n",
            "3XJluLc_5sk.mp3  EmORbVcjjGc.mp3  MGJwxJQbP3U.mp3  TxRWQHCSmUg.mp3\n",
            "41qC3w3UUkU.mp3  Ep3rdap8Xk8.mp3  mHANNkKBSNU.mp3  tyzkl_luKf8.mp3\n",
            "49P4GUA4AIY.mp3  Epgo8ixX6Wo.mp3  mIaV0TFQkzk.mp3  tzRFLMn4kpM.mp3\n",
            "4GueQZ0w4Lc.mp3  EqeJUGzvnq0.mp3  mLk4EH9FWwI.mp3  U2zleXyWFac.mp3\n",
            "_4IRMYuE1hI.mp3  ESmLFX8Bk0M.mp3  MP4F0ZcW_G0.mp3  UA0U8WJdBmg.mp3\n",
            "4Lk2KHajp4Y.mp3  eSQpVn80gLo.mp3  MPjhJXigOWc.mp3  UaLEFkLlpy4.mp3\n",
            "4m9vlfmjDqM.mp3  eswKJ_EOdf8.mp3  MpMC2_SCY7w.mp3  U-F-dUxNEKQ.mp3\n",
            "4MiVtlhOW4U.mp3  EsYrpHcGy5E.mp3  mqjKKg7BRvo.mp3  uFEb45pnko8.mp3\n",
            "4Oj3__6qomo.mp3  EwjZwONDca8.mp3  MQqt-CKdlfw.mp3  UFiYN-p6adc.mp3\n",
            "4P0hG3sD0-E.mp3  EXTDoVANaVA.mp3  _Mtt7eT-go4.mp3  UG3uuStJnXA.mp3\n",
            "4qlCC1GOwFw.mp3  eyRLSe3MEGI.mp3  mWaovED4tcs.mp3  uGbSYohHcio.mp3\n",
            "4SzthQDH1QA.mp3  eZ7VYkYPyoc.mp3  n3nPiBai66M.mp3  uhBHL3v4d3I.mp3\n",
            "4UkKrRWT4Ww.mp3  FCi2u265wxQ.mp3  N9Hj1UjNVCE.mp3  ukOs3am7CtE.mp3\n",
            "5a4n6yZIXxI.mp3  FdrMyZ9J6Tg.mp3  Na1N80vKXLw.mp3  uk_wUT1CvWM.mp3\n",
            "5bOxoe8qDGQ.mp3  feWNvGpWHLM.mp3  nEDB62oKv2M.mp3  Ul-Jh_E1-uM.mp3\n",
            "5Da9sc6YDBo.mp3  fg1HZC0ncxw.mp3  N-IixtxKETU.mp3  uPudE8nDog0.mp3\n",
            "5GFfIe3mr20.mp3  FGRx2U2uZsw.mp3  nJESSGMq5_E.mp3  UrfFHzqGBZI.mp3\n",
            "5GNE51G207g.mp3  fJJ4lI631Ng.mp3  NKJIIHgy1E0.mp3  us3tczsrKQc.mp3\n",
            "5HI_xFQWiYU.mp3  fJvatGfD9Pg.mp3  -NlmyBQq6LY.mp3  USKocNP6WIk.mp3\n",
            "5i3JAufC_-c.mp3  FLK70Ipe-tI.mp3  nmdUMwlrezs.mp3  UTh7f6tZMO4.mp3\n",
            "5mAj05AUQu0.mp3  fOB2ml03K9s.mp3  nM__lPTWThU.mp3  UwLB34_w6aI.mp3\n",
            "5PaJ-BHmWiE.mp3  fpWNimba344.mp3  N_MqfF0WBsU.mp3  uyhkQxIoCx4.mp3\n",
            "5q-7WeFsooM.mp3  Fskz0F9aN7Y.mp3  nNmu39FWKDU.mp3  UyvlaYm6Ris.mp3\n",
            "63aAqNN2J50.mp3  ftQDhQ2UXo8.mp3  NnvFT5_Ltqg.mp3  UzxBuR-eKQk.mp3\n",
            "65cyFI8VGRQ.mp3  fUiZHt6sqg4.mp3  nPHzs6YwsvA.mp3  V14in2dBg2k.mp3\n",
            "6BTjG-dhf5s.mp3  FwgZ9RV4R_0.mp3  nqxVMLVe62U.mp3  v8g8pq-kHes.mp3\n",
            "6CU4egMDFxU.mp3  FX5T9GvSnbY.mp3  nrIPxlFzDi0.mp3  v9mJuqBipE0.mp3\n",
            "_6FBfAQ-NDE.mp3  FYFxM3d16e0.mp3  Nsct-e-HVE0.mp3  vdB-8eLEW8g.mp3\n",
            "6FOUqQt3Kg0.mp3  FzijFhkdbeA.mp3  NuT5KUA7iaY.mp3  vIq6UTrpQF0.mp3\n",
            "6IS6g3_pp1I.mp3  FZLILV18ut8.mp3  NVq27glkY_A.mp3  vKlmwJZOrXM.mp3\n",
            "6KLO2ubqUW4.mp3  fztkUuunI7g.mp3  OAQ2jq6vwsE.mp3  VMOIpdrgnYE.mp3\n",
            "6M6samPEMpM.mp3  G27VKWgJeUE.mp3  OB1wEhOgoVY.mp3  VmvaGP30cYk.mp3\n",
            "6NXnxTNIWkc.mp3  g4Vp_P9d6O4.mp3  Od0ZvXXghP4.mp3  VofYXCJyeTY.mp3\n",
            "6QJH3wzcQ54.mp3  G58XWF6B3AA.mp3  oEYgSuIWPTs.mp3  VogjkTzfHQM.mp3\n",
            "6ScZtKqVMS4.mp3  G8LKgDNkK7o.mp3  oH_-DdezpYg.mp3  Vppbdf-qtGU.mp3\n",
            "6t88RGH8MKs.mp3  g9F4yAww9H0.mp3  OIJx6PbkON8.mp3  vq-zaD1poAE.mp3\n",
            "-6uM9VghmIY.mp3  gcE1avXFJb4.mp3  oJ3EJ_ICJnc.mp3  VsOPVCK745I.mp3\n",
            "732vFf2VmK4.mp3  GcrShxp8DPU.mp3  OKztAgfYvjw.mp3  Vsy1URDYK88.mp3\n",
            "73VczRfu9Kg.mp3  GdH30r1IZzs.mp3  Om9CdilJETI.mp3  vTiJjBH7sX8.mp3\n",
            "7CK1R1suY6U.mp3  GeisCvjwBMo.mp3  omqX7sApDDI.mp3  vtNG_G6OtCE.mp3\n",
            "7oday_Fc-Gc.mp3  gEVi0IxC0yM.mp3  OoAP9Dtz6gc.mp3  vwwkjI65Q0A.mp3\n",
            "7pnSNIab1sM.mp3  gF2fY-Nv1YM.mp3  OOCS52WIHtk.mp3  vx2u5uUu3DE.mp3\n",
            "7qaHdHpSjX8.mp3  GFoT6UUNLZc.mp3  ooHII67__Sg.mp3  vxqWdSOVI9U.mp3\n",
            "7qix3jy5QdA.mp3  ggacjeZRdok.mp3  oQVaGR2OsKA.mp3  VYWtyJGq4vo.mp3\n",
            "7uhWJATdXMA.mp3  gGdGFtwCNBE.mp3  OR4Rn1Wt96k.mp3  W0cMYteDA1w.mp3\n",
            "7up2b4keW_k.mp3  GhCXAiNz9Jo.mp3  OUp5_o_i3uA.mp3  w2AOy0Dc2ds.mp3\n",
            "_7WCzeylk08.mp3  gi6tMP8abnk.mp3  _ovdm2yX4MA.mp3  w2-JMILYhi4.mp3\n",
            "7wfYIMyS_dI.mp3  gj1_tJ9fZCU.mp3  Oz_i9R2PqA0.mp3  W9kLG7KmteY.mp3\n",
            "8_2xTSfEVMM.mp3  GoA_zY6tqQw.mp3  oZKSb7JYSKc.mp3  wgAKnsO6N-s.mp3\n",
            "87UE2GC5db0.mp3  gsAQZahOhfE.mp3  OZWmYEUoweg.mp3  WGpyMa1hhuI.mp3\n",
            "8iPcqtHoR3U.mp3  GtNQ0qrfDIk.mp3  OzWX59Nvimw.mp3  WGq-eCoPSwA.mp3\n",
            "8PYKOo_jgJo.mp3  GurkREc-q4I.mp3  oZyC-Z0Vw0M.mp3  wH_0_pijbZY.mp3\n",
            "8qWePX39R40.mp3  gv_bkS5VVaA.mp3  P_1N6_O254g.mp3  WivalAzyIfk.mp3\n",
            "8Qx2lMaMsl8.mp3  g-VWJKQ1VWk.mp3  p47fEXGabaY.mp3  Wj07dSnB-Ng.mp3\n",
            "8ypBnoEZjJ0.mp3  GW3enefjwY0.mp3  P8JEm4d6Wu4.mp3  wkKueyJaA0A.mp3\n",
            "96o2yriYDZU.mp3  Gxa7VEGdbqQ.mp3  pBJxS21CRdQ.mp3  WOuI4OqJfQc.mp3\n",
            "98Rh0jbTh0U.mp3  h1qQ1SKNlgY.mp3  Pd9HKiUcioM.mp3  wPw5WiABUOA.mp3\n",
            "9C1BCAgu2I8.mp3  h3cE9iXIx9c.mp3  pFuTpFumd9s.mp3  Wr9ie2J2690.mp3\n",
            "9dhVXLUpY4s.mp3  H3v9unphfi0.mp3  p_gHgbR0y1E.mp3  WSeNSzJ2-Jw.mp3\n",
            "9jhF92eHoYI.mp3  h5EydlkwCuw.mp3  PiqQAGTcrA0.mp3  wshd3Dy5uKE.mp3\n",
            "9KjKTvsNVo8.mp3  H5Kkw-Puhho.mp3  pj6k-EFxqAI.mp3  WvxH5UsWsGw.mp3\n",
            "9LKMN8-azPc.mp3  H-7S9RB7BOI.mp3  Pm2afuGAS1U.mp3  wwfd3g8v-00.mp3\n",
            "9PukqhfMxfc.mp3  h9-OzSzCDWo.mp3  Pn-6eOxnEMI.mp3  wx6sd2Uiapk.mp3\n",
            "9sO-XP-ur1s.mp3  haas3N9vxsM.mp3  poiH9oTmFt8.mp3  WxzJUMnFe_A.mp3\n",
            "9tcwlCHSdGQ.mp3  HAqyj5nPEzA.mp3  pRI6HsTLAjU.mp3  w_z9oSn-eIM.mp3\n",
            "9vwHuCC6nP8.mp3  ho9rZjlsyYY.mp3  -PS572zgzAE.mp3  X4GNogX7beI.mp3\n",
            "9WzD80jwW10.mp3  -Hpczb5quhk.mp3  psm5dsUH2WM.mp3  X8Ow1nlafOg.mp3\n",
            "-a3SIjNKHHg.mp3  HQ4od5ulHqs.mp3  Pte68Px80_U.mp3  XcEJ0H8mE9Y.mp3\n",
            "A6sGf7mYSeY.mp3  HQmmM_qwG4k.mp3  PVyS9JwtFoQ.mp3  xCFEk6Y8TmM.mp3\n",
            "aaKf6P2nhKg.mp3  HSwda46cNMg.mp3  pwnefUaKCbc.mp3  XcQNjV-YSiM.mp3\n",
            "ABc8ciT5QLs.mp3  hTe19RV3HRo.mp3  PYPAynXWfJ8.mp3  xEG8MsCSMU0.mp3\n",
            "AbDqXr6LbXo.mp3  HVwbGCUDcFo.mp3  q0HIxJtLI_Q.mp3  XeX4X_1_lo0.mp3\n",
            "AD7PQySHAZc.mp3  HyMm4rJemtI.mp3  Q-0mLKNhFX0.mp3  xFutjZEBTXs.mp3\n",
            "Ae0nwSv6cTU.mp3  I08ex7M5WTw.mp3  Q5jZXE3bNPg.mp3  xGytDsqkQY8.mp3\n",
            "AE1ct5yEuVY.mp3  I0KiAx6229A.mp3  q6fgVVlPl08.mp3  XisOVzJ32_g.mp3\n",
            "ae2iX6vZCoM.mp3  I5HOS-DbK6E.mp3  qaEfEbKECRo.mp3  Xk0wdDTTPA0.mp3\n",
            "aebnsb3pIak.mp3  i9RbBcDTRAI.mp3  qchPLaiKocI.mp3  XlLjOZz__AI.mp3\n",
            "AgfzaAS4gWM.mp3  IB6B58z6MUo.mp3  qFhM1XZsh6o.mp3  XmaCLxsTgOM.mp3\n",
            "_ahsXzmmplU.mp3  ibPWDx3Z_8M.mp3  QfhqUgC2nM0.mp3  XMjKoVHf4jw.mp3\n",
            "Aiay8I5IPB8.mp3  IBvg3WeqP1U.mp3  qi9Mrulqy-Y.mp3  XoLcVzxwgvQ.mp3\n",
            "aiMxmJlsOL0.mp3  iCEDfZgDPS8.mp3  QlJ9aVrsRHc.mp3  XOzs1FehYOA.mp3\n",
            "aiumJ_nDkhs.mp3  iDjeXUxbvGI.mp3  QlzVpPf_juw.mp3  XSoy-yrBsoA.mp3\n",
            "_AKEVGfpHN0.mp3  -iD_LQiv9wE.mp3  qnkuBUAwfe0.mp3  xt6VekCVrqg.mp3\n",
            "aKw5mbcE7VY.mp3  iGR_bUYe-PA.mp3  QNRxHyZDU-Q.mp3  xuDq8kWCroA.mp3\n",
            "AlEnIgrI2tk.mp3  ihyQf8mww3o.mp3  qnshrtoaXNA.mp3  XUTWiWb8CUM.mp3\n",
            "amiXxFi-2TA.mp3  IibBmvF_Tv4.mp3  qOR2wcel2Yo.mp3  XvFktwMqYlI.mp3\n",
            "An4uDegHB8s.mp3  iIpfWORQWhU.mp3  QPWsQ7utB2s.mp3  y3xyp54bZqs.mp3\n",
            "AnCGnKyRBwg.mp3  iJnJjpMdT3Y.mp3  qpYW3qng78E.mp3  y5l-GSDo72c.mp3\n",
            "AoQ4AtsFWVM.mp3  IKmPci5VXz0.mp3  qql97uZI0-M.mp3  y6i2AGZCQZg.mp3\n",
            "aQfC7Ow5GHo.mp3  IM-ky0uLFbI.mp3  qrO4YZeyl0I.mp3  y7mwZULsVcQ.mp3\n",
            "Asj6zLq5BIY.mp3  InFbBlpDTfQ.mp3  -qRP_gnygT8.mp3  Y8QH7a5YQFU.mp3\n",
            "-av7F1JBmj4.mp3  INn1C6ImJKg.mp3  QSA-yHzkvP8.mp3  ybWOg-JAQog.mp3\n",
            "AVYYpNaSs2Y.mp3  Iq-3B6xfNpY.mp3  q_scNPUGcDs.mp3  Yd60nI4sa9A.mp3\n",
            "aWhAN3iik-k.mp3  iTOQuIqAWEQ.mp3  qw4OBoIE6KY.mp3  yew9L0Xjm_g.mp3\n",
            "Ax0uia4pzxs.mp3  IUGzY-ihqWc.mp3  QwCdLKJLQ1Q.mp3  yeWBeNUdfsU.mp3\n",
            "B0qz6XwxUiM.mp3  iwBGQb_5SRw.mp3  QXPkqP9sAvY.mp3  YfjTZLxekig.mp3\n",
            "b3s82WYEm2o.mp3  Ixrje2rXLMA.mp3  qYkpURie5cU.mp3  yJbT_YVPda0.mp3\n",
            "B4TxEsRxltg.mp3  iymtpePP8I8.mp3  Qz15AKiKCAs.mp3  YkuH_m3d-8Q.mp3\n",
            "B51na4gPbQU.mp3  J9gKyRmic20.mp3  QZh2WFIoUfA.mp3  Y_o4omd8T5c.mp3\n",
            "bbmdDQ3XrTM.mp3  j9zuYfdfeoM.mp3  qZP54bClDRw.mp3  YP_Q8EtAeQ4.mp3\n",
            "BbT_Q23SSpc.mp3  JAdCePtwoW4.mp3  r2AzgXX8VCE.mp3  yTGNlvFNDLk.mp3\n",
            "bDWmnwITmTw.mp3  jao1d826TkA.mp3  R2ezymnEuCs.mp3  YuBeBjqKSGQ.mp3\n",
            "bfZ--tNtzBs.mp3  jcFuSDcBh8w.mp3  R2MHkGmzt-Y.mp3  yUuJrpP0Mak.mp3\n",
            "bh66pGIhysQ.mp3  JFcgOboQZ08.mp3  r3rZIWohyYE.mp3  YwSU0rcVTaE.mp3\n",
            "bI-boa-JGe0.mp3  Jgk3u44W2i4.mp3  r4b4SU9I6tc.mp3  Z5-rdr0qhWk.mp3\n",
            "bj8GBas6AJs.mp3  JguykkW4rMY.mp3  R-5f1ZUUsmY.mp3  ZBfSu4nGDfk.mp3\n",
            "B_kAtTBUDIA.mp3  jGwKzoSzHk0.mp3  R5N7JaURMxQ.mp3  ZcERFp7pOQQ.mp3\n",
            "bKDjOAz6JNo.mp3  JiDnB-CrrNs.mp3  _raonMRuT54.mp3  zEf423kYfqk.mp3\n",
            "bkJd-i0iL2E.mp3  jjuSfhYiup8.mp3  RE0XhQ_BSkk.mp3  ZehebjPc34E.mp3\n",
            "bnrSvuOx3lk.mp3  JmcA9LIIXWw.mp3  ReSiLlGzj_A.mp3  ZFo8-JqzSCM.mp3\n",
            "bPk9bSvQQoc.mp3  jnttI7aEI0g.mp3  rjJWxFTZBK0.mp3  ZFpCALtVUcE.mp3\n",
            "BR2JtsVumFA.mp3  JOD-M7WZkZQ.mp3  rjlSiASsUIs.mp3  ZgdufzXvjqw.mp3\n",
            "BRdKgaMLPaA.mp3  JRftXCiqfQ8.mp3  RKBzv5lWLQs.mp3  ZJg5Op5W7yw.mp3\n",
            "bSfqNEvykv0.mp3  jSoPeZMHMf4.mp3  rKTUAESacQM.mp3  _zK_ifCiqHI.mp3\n",
            "BtjBODA1gYw.mp3  jsvp_LH90uI.mp3  RLnA25dVzrQ.mp3  Z_mALNbuQZ0.mp3\n",
            "BtRROUFO4dE.mp3  JSzg2e8MutM.mp3  rnKbImRPhTE.mp3  ZoJz2SANTyo.mp3\n",
            "bvE3vz_OugA.mp3  JXkN3nJyWEA.mp3  rP3ovD8ZSS4.mp3  ZRSNy8DcIDk.mp3\n",
            "-BVsEGTZdoY.mp3  JYhgqFBs19w.mp3  rtts83Fh5JM.mp3  Zsk5EPKm5T0.mp3\n",
            "BWerj8FcprM.mp3  k1-TrAvp_xs.mp3  rTVjnBo96Ug.mp3  zUwEIt9ez7M.mp3\n",
            "bx1Bh8ZvH84.mp3  k7vNilNjAwE.mp3  Rvig7-sxvvM.mp3  ZvYSYOKFCbk.mp3\n",
            "C3lMGhWFo-A.mp3  KevUFO2moZI.mp3  rxFYGe4bMac.mp3  zXt56MB-3vc.mp3\n",
            "C4TqkjQS9BM.mp3  KFq2pU21cNU.mp3  rZxHZ-unOBQ.mp3  ZyhrYis509A.mp3\n",
            "c4ukkhdoFFo.mp3  kfRmrg0g060.mp3  s29RKnB7l7o.mp3  zZbytFtO2dQ.mp3\n",
            "c73Cu3TQnlg.mp3  KGGsH2bNlEQ.mp3  s5BJXwNeKsQ.mp3\n"
          ]
        }
      ]
    },
    {
      "cell_type": "code",
      "source": [
        "AUDIO_FILES = np.array(list(Path(\"./data/inputs/musimotion_youtube_subtestset/\").glob(\"*.mp3\")))\n",
        "\n",
        "logger.info(f\"{len(AUDIO_FILES)} audio files.\")\n",
        "display(AUDIO_FILES[:5])\n"
      ],
      "metadata": {
        "colab": {
          "base_uri": "https://localhost:8080/",
          "height": 138
        },
        "id": "MxblvfEMf3b9",
        "outputId": "423c62fa-a02f-40c7-8596-a4f45bea4e60"
      },
      "execution_count": null,
      "outputs": [
        {
          "output_type": "stream",
          "name": "stderr",
          "text": [
            "INFO:__main__:663 audio files.\n"
          ]
        },
        {
          "output_type": "display_data",
          "data": {
            "text/plain": [
              "array([PosixPath('data/inputs/musimotion_youtube_subtestset/Dxkjj-W801A.mp3'),\n",
              "       PosixPath('data/inputs/musimotion_youtube_subtestset/q_scNPUGcDs.mp3'),\n",
              "       PosixPath('data/inputs/musimotion_youtube_subtestset/Ixrje2rXLMA.mp3'),\n",
              "       PosixPath('data/inputs/musimotion_youtube_subtestset/haas3N9vxsM.mp3'),\n",
              "       PosixPath('data/inputs/musimotion_youtube_subtestset/Epgo8ixX6Wo.mp3')],\n",
              "      dtype=object)"
            ]
          },
          "metadata": {}
        }
      ]
    },
    {
      "cell_type": "markdown",
      "metadata": {
        "id": "tzWTTqxmKtwE"
      },
      "source": [
        "\n",
        "In order to use this dataset with pytorch, we extend the Dataset object to load the audio and annotations in our dataset, according to these [instructions](https://pytorch.org/tutorials/beginner/data_loading_tutorial.html).\n",
        "\n",
        "We basically need to write three methods:\n",
        "\n",
        "*   __init__\n",
        "*   __len__\n",
        "*   __getitem__ to return each pair of audio array and class label\n",
        "\n",
        "\n",
        "This is how a prototype of this class could look like:\n",
        "\n",
        "```\n",
        "class UtopiaDataset(torch.utils.data.Dataset):\n",
        "    def __init__(self):\n",
        "      self.track_ids = dataset.track_ids\n",
        "    def __getitem__(self, index):\n",
        "      # load data\n",
        "      audio = load_audio(self.track_ids[index])\n",
        "      label = self.track_ids[index].label\n",
        "      # split audio in a fixed size array\n",
        "      audio = audio[:seq_duration] \n",
        "      return audio,label\n",
        "    def __len__(self):\n",
        "      return len(self.tracks_ids)\n",
        "\n",
        "```\n",
        "\n",
        "Let's implement the class:\n"
      ]
    },
    {
      "cell_type": "code",
      "execution_count": null,
      "metadata": {
        "id": "irATuWrpHblx"
      },
      "outputs": [],
      "source": [
        "class UtopiaDatasetSplit(torch.utils.data.Dataset):\n",
        "    FRAME_OFFSET = 0\n",
        "\n",
        "    def __init__(\n",
        "        self,\n",
        "        split_annotation_path: Path,\n",
        "        audio_filepaths: List[Path],\n",
        "        split_type: str = \"train\",\n",
        "        seq_duration: float = 30,  # seconds\n",
        "        random_start: bool = True,\n",
        "        resample: int = 8000\n",
        "    ):\n",
        "        self._prepare_split_data(\n",
        "            audio_filepaths,\n",
        "            split_annotation_path\n",
        "        )\n",
        "        self.split_type = split_type # TODO: enum\n",
        "        self.seq_duration = seq_duration\n",
        "        self.random_start = random_start\n",
        "        self.resample = resample\n",
        "\n",
        "    def _prepare_split_data(\n",
        "        self,\n",
        "        audio_filepaths: List[str],\n",
        "        split_annotation_path: str\n",
        "    ) -> Tuple[List[Dict], Dict[str, int]]:\n",
        "        annotations = self._read_annotation_data(split_annotation_path)\n",
        "        self.label_map = self._map_labels(annotations)\n",
        "\n",
        "        self.data = []\n",
        "        for fp in audio_filepaths:\n",
        "          filename = fp.name\n",
        "          if filename in annotations.index:\n",
        "            audio_label_series = annotations.loc[filename]\n",
        "            labels = audio_label_series[audio_label_series==True].index.to_list()\n",
        "            label_idx = [self.label_map[lbl] for lbl in labels]\n",
        "            is_pop = int(\"Pop\" in labels)\n",
        "            is_rock = int(\"Rock\" in labels)\n",
        "\n",
        "            self.data.append({\n",
        "                \"audio_path\": fp,\n",
        "                \"labels\": labels,\n",
        "                \"label_idx\": label_idx,\n",
        "                \"is_pop\": is_pop, # temporary to make sure we have a result\n",
        "                \"is_rock\": is_rock # temporary to make sure we have a result\n",
        "            })\n",
        "\n",
        "    @staticmethod\n",
        "    def _read_annotation_data(path) -> pd.DataFrame:\n",
        "        split = mlt.data.Annotation(path)\n",
        "        split.extract()\n",
        "        logger.info(f\"{len(split.data)} recordings in the split.\")\n",
        "\n",
        "        return split.data\n",
        "\n",
        "    @staticmethod\n",
        "    def _map_labels(annotations) -> Dict:\n",
        "        \"\"\"maps tags (labels) to integers, e.g. `Pop -> 12`\n",
        "        \"\"\"\n",
        "        # TODO: brittle implementation; works because both splits consist \n",
        "        # of all tags. We should create a enum singleton\n",
        "        unique_labels = sorted(annotations.columns.unique())\n",
        "        return {label: i for i, label in enumerate(unique_labels)}\n",
        "\n",
        "    def __getitem__(self, index):\n",
        "        audio_path = self.data[index][\"audio_path\"]\n",
        "        label_idx = self.data[index][\"label_idx\"]\n",
        "        metadata_dict = self._get_audio_metadata(audio_path)\n",
        "\n",
        "        # cut audio to the first `seq_duration` seconds to reduce training time\n",
        "        # (so I could finish the challenge)\n",
        "        num_frames = min([\n",
        "            int(np.floor(self.seq_duration * metadata_dict[\"sample_rate\"])),\n",
        "            metadata_dict[\"num_samples\"]\n",
        "        ])\n",
        "\n",
        "        audio_signal, sample_rate = torchaudio.load(\n",
        "            filepath=audio_path,\n",
        "            frame_offset=self.FRAME_OFFSET,\n",
        "            num_frames=num_frames\n",
        "        )\n",
        "\n",
        "        # convert to mono\n",
        "        audio_signal = audio_signal.mean(dim=0).reshape((1, -1))\n",
        "        audio_signal = torchaudio.transforms.Resample(\n",
        "            sample_rate,\n",
        "            self.resample\n",
        "        )(audio_signal)\n",
        "\n",
        "        if audio_signal.shape[-1] != 240000:\n",
        "          print(index, audio_signal.shape)\n",
        "          print(metadata_dict)\n",
        "\n",
        "        # return resampled_signal, label_idx\n",
        "        return audio_signal, self.data[index][\"is_pop\"]\n",
        "\n",
        "    @staticmethod\n",
        "    def _get_audio_metadata(audio_path):\n",
        "        str_path = str(audio_path)  # torchaudio doesn't accept Path objects\n",
        "        metadata = torchaudio.info(str_path)\n",
        "\n",
        "        return {\n",
        "            \"sample_rate\": metadata.sample_rate,\n",
        "            \"num_channels\": metadata.num_channels,\n",
        "            \"num_samples\": metadata.num_frames,\n",
        "            \"duration\": metadata.num_frames / metadata.sample_rate,\n",
        "        }        \n",
        "\n",
        "    def __len__(self):\n",
        "        return len(self.data)\n"
      ]
    },
    {
      "cell_type": "markdown",
      "metadata": {
        "id": "lM4Wk3tsRnqg"
      },
      "source": [
        "We initialize the dataset objects for train, and test. We define the corresponding pytorch objects for data loading, defining the batch_size (paralellization on the GPU) and the num_workers ( data loading paralellization on CPU/memory)."
      ]
    },
    {
      "cell_type": "code",
      "source": [
        "split_dataset_loader_dict = {}\n",
        "for split_str in [\"train\", \"test\"]:\n",
        "    dataset = UtopiaDatasetSplit(\n",
        "        split_annotation_path=SPLIT_PATHS[split_str],\n",
        "        audio_filepaths=audio_files,\n",
        "        split_type=split_str\n",
        "    )\n",
        "    loader = torch.utils.data.DataLoader(\n",
        "        dataset,\n",
        "        batch_size=32,\n",
        "        num_workers=2,\n",
        "        pin_memory=True\n",
        "    )\n",
        "    split_dataset_loader_dict[split_str] = {\n",
        "        \"dataset\": dataset,\n",
        "        \"loader\": loader\n",
        "    }\n"
      ],
      "metadata": {
        "colab": {
          "base_uri": "https://localhost:8080/"
        },
        "id": "dkP_Y6m3G0pd",
        "outputId": "e3c68727-1f6c-4e94-8fd5-4cb7a20d82bc"
      },
      "execution_count": null,
      "outputs": [
        {
          "output_type": "stream",
          "name": "stderr",
          "text": [
            "INFO:multilabel_tagger.data.annotation:Reading annotations from data/interim/split_train_test/train/train_split.csv.\n",
            "INFO:__main__:458 recordings in the split.\n",
            "INFO:multilabel_tagger.data.annotation:Reading annotations from data/interim/split_train_test/test/test_split.csv.\n",
            "INFO:__main__:194 recordings in the split.\n"
          ]
        }
      ]
    },
    {
      "cell_type": "code",
      "source": [
        "display(split_dataset_loader_dict)\n",
        "display(split_dataset_loader_dict['test']['dataset'][10])\n",
        "display(split_dataset_loader_dict['test']['dataset'][10][0].shape)"
      ],
      "metadata": {
        "colab": {
          "base_uri": "https://localhost:8080/",
          "height": 121
        },
        "id": "Tso2-773aGeD",
        "outputId": "a91cf538-94c4-4678-d939-e669cab5197d"
      },
      "execution_count": null,
      "outputs": [
        {
          "output_type": "display_data",
          "data": {
            "text/plain": [
              "{'test': {'dataset': <__main__.UtopiaDatasetSplit at 0x7f12c822c490>,\n",
              "  'loader': <torch.utils.data.dataloader.DataLoader at 0x7f1352c85750>},\n",
              " 'train': {'dataset': <__main__.UtopiaDatasetSplit at 0x7f12c824b310>,\n",
              "  'loader': <torch.utils.data.dataloader.DataLoader at 0x7f12c824c4d0>}}"
            ]
          },
          "metadata": {}
        },
        {
          "output_type": "display_data",
          "data": {
            "text/plain": [
              "(tensor([[ 0.0000,  0.0000,  0.0000,  ..., -0.0205,  0.0208,  0.0372]]), 0)"
            ]
          },
          "metadata": {}
        },
        {
          "output_type": "display_data",
          "data": {
            "text/plain": [
              "torch.Size([1, 240000])"
            ]
          },
          "metadata": {}
        }
      ]
    },
    {
      "cell_type": "code",
      "source": [
        "import librosa\n",
        "import matplotlib.pyplot as plt\n",
        "def plot_spectrogram(spec, title=None, ylabel='freq_bin', aspect='auto', xmax=None):\n",
        "  fig, axs = plt.subplots(1, 1)\n",
        "  axs.set_title(title or 'Spectrogram (db)')\n",
        "  axs.set_ylabel(ylabel)\n",
        "  axs.set_xlabel('frame')\n",
        "  im = axs.imshow(librosa.power_to_db(spec), origin='lower', aspect=aspect)\n",
        "  if xmax:\n",
        "    axs.set_xlim((0, xmax))\n",
        "  fig.colorbar(im, ax=axs)\n",
        "  plt.show(block=False)"
      ],
      "metadata": {
        "id": "m76l9JXMWHBS"
      },
      "execution_count": null,
      "outputs": []
    },
    {
      "cell_type": "code",
      "source": [
        "melspec = torchaudio.transforms.MelSpectrogram(\n",
        "    sample_rate=8000,\n",
        "    n_fft=1024,\n",
        "    f_min=20,\n",
        "    f_max=11025,\n",
        "    n_mels=128\n",
        ")(split_dataset_loader_dict['test']['dataset'][1][0])\n",
        "\n",
        "plot_spectrogram(\n",
        "    melspec[0], title=\"MelSpectrogram - torchaudio\", ylabel='mel freq')"
      ],
      "metadata": {
        "colab": {
          "base_uri": "https://localhost:8080/",
          "height": 350
        },
        "id": "0I8Xm-KqVGAB",
        "outputId": "9c7e49f0-fbf9-4151-e68d-3640e646e9c7"
      },
      "execution_count": null,
      "outputs": [
        {
          "output_type": "stream",
          "name": "stderr",
          "text": [
            "/usr/local/lib/python3.7/dist-packages/torchaudio/functional/functional.py:508: UserWarning: At least one mel filterbank has all zero values. The value for `n_mels` (128) may be set too high. Or, the value for `n_freqs` (513) may be set too low.\n",
            "  \"At least one mel filterbank has all zero values. \"\n"
          ]
        },
        {
          "output_type": "display_data",
          "data": {
            "text/plain": [
              "<Figure size 432x288 with 2 Axes>"
            ],
            "image/png": "[encoded data removed]"
          },
          "metadata": {
            "needs_background": "light"
          }
        }
      ]
    },
    {
      "cell_type": "code",
      "source": [
        "melspec = torchaudio.transforms.MelSpectrogram(\n",
        "    sample_rate=8000,\n",
        "    n_fft=1024,\n",
        "    f_min=20,\n",
        "    f_max=4000,\n",
        "    n_mels=128,\n",
        ")(split_dataset_loader_dict['test']['dataset'][41][0])\n",
        "\n",
        "plot_spectrogram(\n",
        "    melspec[0], title=\"MelSpectrogram - torchaudio\", ylabel='mel freq')"
      ],
      "metadata": {
        "colab": {
          "base_uri": "https://localhost:8080/",
          "height": 295
        },
        "id": "rW-m_Qp7WfyO",
        "outputId": "7fb659a5-4a8b-4eb9-fe8a-95ea9ed52467"
      },
      "execution_count": null,
      "outputs": [
        {
          "output_type": "display_data",
          "data": {
            "text/plain": [
              "<Figure size 432x288 with 2 Axes>"
            ],
            "image/png": "[encoded data removed]"
          },
          "metadata": {
            "needs_background": "light"
          }
        }
      ]
    },
    {
      "cell_type": "markdown",
      "metadata": {
        "id": "TRowsZK3HfDi"
      },
      "source": [
        "\n",
        "**Which batch size/learning rate?**\n",
        "\n",
        "Theory suggests that when multiplying the batch size by k, one should multiply the learning rate by sqrt(k) to keep the variance in the gradient expectation constant. See page 5 at A. Krizhevsky. One weird trick for parallelizing convolutional neural networks: https://arxiv.org/abs/1404.5997\n",
        "\n",
        "However, recent experiments with large mini-batches suggest for a simpler linear scaling rule, i.e multiply your learning rate by k when using mini-batch size of kN. See P.Goyal et al.: Accurate, Large Minibatch SGD: Training ImageNet in 1 Hour https://arxiv.org/abs/1706.02677"
      ]
    },
    {
      "cell_type": "markdown",
      "metadata": {
        "id": "Keh79hDpSUHG"
      },
      "source": [
        "## Training a pytorch lightning classifier"
      ]
    },
    {
      "cell_type": "markdown",
      "metadata": {
        "id": "CpwMhNSUSrRJ"
      },
      "source": [
        "We extend the pytorch lightning module according to the [documentation](https://pytorch-lightning.readthedocs.io/en/stable/new-project.html). This may contain a definition of the layers in the neural network and how the data flows (how the layers are connected). You may overwrite other functions from `pl.LightningModule`, as described [here](https://pytorch-lightning.readthedocs.io/en/latest/lightning_module.html). The most important are `training_step` and `configure_optimizers`, in which we define the training loss and the optimizers.\n",
        "\n",
        "W = W - lr * Delta(W) -> Stochastic gradient descent\n",
        "W = [w1 ... w10] [l1...l10] \n",
        "\n",
        "```\n",
        ">>> class LitModel(pl.LightningModule):\n",
        "...\n",
        "...     def __init__(self):\n",
        "...         super().__init__()\n",
        "...         self.l1 = torch.nn.Linear(28 * 28, 10)\n",
        "...\n",
        "...     def forward(self, x):\n",
        "...         return torch.relu(self.l1(x.view(x.size(0), -1)))\n",
        "...\n",
        "...     def training_step(self, batch, batch_idx):\n",
        "...         x, y = batch\n",
        "...         y_hat = self.forward(x)\n",
        "...         loss = F.cross_entropy(y_hat, y)\n",
        "...         return loss\n",
        "...\n",
        "...     def configure_optimizers(self):\n",
        "...         return torch.optim.Adam(self.parameters(), lr=0.02)\n",
        "```\n",
        "\n"
      ]
    },
    {
      "cell_type": "markdown",
      "metadata": {
        "id": "sHVW9hNsNgZ1"
      },
      "source": [
        "We first build a Conv2D module which stacks several layers: 2D convolution, batch normalization, relu, maxpool, dropout"
      ]
    },
    {
      "cell_type": "code",
      "execution_count": null,
      "metadata": {
        "id": "UHdAsAM1Nfex"
      },
      "outputs": [],
      "source": [
        "class Conv_2d(torch.nn.Module):\n",
        "    def __init__(self, input_channels, output_channels, shape=3, pooling=2, dropout=0.1):\n",
        "        super(Conv_2d, self).__init__()\n",
        "        self.conv = torch.nn.Conv2d(input_channels, output_channels, shape, padding=shape//2)\n",
        "        self.bn = torch.nn.BatchNorm2d(output_channels)\n",
        "        self.relu = torch.nn.ReLU()\n",
        "        self.maxpool = torch.nn.MaxPool2d(pooling)\n",
        "        self.dropout = torch.nn.Dropout(dropout)\n",
        "\n",
        "    def forward(self, wav):\n",
        "        out = self.conv(wav)\n",
        "        out = self.bn(out)\n",
        "        out = self.relu(out)\n",
        "        out = self.maxpool(out)\n",
        "        out = self.dropout(out)\n",
        "        return out"
      ]
    },
    {
      "cell_type": "markdown",
      "metadata": {
        "id": "LRF81_4YZ4cf"
      },
      "source": [
        "We predict the 10 classes of the Mridangam stroke dataset with a CNN using as input the MFCCs computed from audio files."
      ]
    },
    {
      "cell_type": "code",
      "execution_count": null,
      "metadata": {
        "id": "0V9lIsjDOCwZ"
      },
      "outputs": [],
      "source": [
        "class CNN(pl.LightningModule):\n",
        "    '''\n",
        "    Simple CNN classification architecture: https://music-classification.github.io/tutorial/part3_supervised/tutorial.html\n",
        "    '''\n",
        "    def __init__(\n",
        "        self,\n",
        "        num_channels=16, \n",
        "        sample_rate=8000, \n",
        "        n_fft=1024, \n",
        "        f_min=0.0, \n",
        "        f_max=4000, \n",
        "        num_mels=128, \n",
        "        num_classes=2 # TODO: change to include all labels\n",
        "    ):\n",
        "        super().__init__()\n",
        "\n",
        "        self.celoss = torch.nn.CrossEntropyLoss()\n",
        "\n",
        "        # mel spectrogram\n",
        "        self.melspec = torchaudio.transforms.MelSpectrogram(\n",
        "            sample_rate=sample_rate,\n",
        "            n_fft=n_fft,\n",
        "            f_min=f_min,\n",
        "            f_max=f_max,\n",
        "            n_mels=num_mels\n",
        "        )\n",
        "        self.amplitude_to_db = torchaudio.transforms.AmplitudeToDB()\n",
        "        self.input_bn = torch.nn.BatchNorm2d(1)\n",
        "\n",
        "        # convolutional layers\n",
        "        self.layer1 = Conv_2d(1, num_channels, pooling=(2, 3))\n",
        "        self.layer2 = Conv_2d(num_channels, num_channels, pooling=(2, 3))\n",
        "        self.layer3 = Conv_2d(num_channels, num_channels * 2, pooling=(2, 4))\n",
        "        self.layer4 = Conv_2d(num_channels * 2, num_channels * 2, pooling=(3, 3))\n",
        "        self.layer5 = Conv_2d(num_channels * 2, num_channels * 4, pooling=(3, 4))\n",
        "\n",
        "        # dense layers\n",
        "        self.dense1 = torch.nn.Linear(num_channels * 4, num_channels * 4)\n",
        "        self.dense_bn = torch.nn.BatchNorm1d(num_channels * 4)\n",
        "        self.dense2 = torch.nn.Linear(num_channels * 4, num_classes)\n",
        "        self.dropout = torch.nn.Dropout(0.5)\n",
        "        self.relu = torch.nn.ReLU()\n",
        "\n",
        "        #### metrics\n",
        "        self.train_acc = torchmetrics.Accuracy()\n",
        "        self.test_acc = torchmetrics.Accuracy()\n",
        "        self.test_cm = torchmetrics.classification.ConfusionMatrix(\n",
        "            num_classes=num_classes\n",
        "        )\n",
        "\n",
        "    def forward(self, waveform):\n",
        "        # input Preprocessing\n",
        "        out = self.melspec(waveform)\n",
        "        \n",
        "        out = self.amplitude_to_db(out)\n",
        "\n",
        "        # input batch normalization\n",
        "        #out = out.unsqueeze(1)\n",
        "        out = self.input_bn(out)\n",
        "       \n",
        "        # convolutional layers\n",
        "        out = self.layer1(out)\n",
        "        out = self.layer2(out)\n",
        "        out = self.layer3(out)\n",
        "        out = self.layer4(out)\n",
        "        out = self.layer5(out)\n",
        "        \n",
        "        # reshape. (batch_size, num_channels, 1, 1) -> (batch_size, num_channels)\n",
        "        out = out.reshape(len(out), -1)\n",
        "\n",
        "        # dense layers\n",
        "        out = self.dense1(out)\n",
        "        out = self.dense_bn(out)\n",
        "        out = self.relu(out)\n",
        "        out = self.dropout(out)\n",
        "        out = self.dense2(out)\n",
        "\n",
        "        return out\n",
        "\n",
        "    def training_step(self, batch, batch_idx):\n",
        "        waveform, label = batch\n",
        "        logits = self.forward(waveform)\n",
        "        loss = self.celoss(logits, label)\n",
        "        self.log('train_loss', loss)\n",
        "        _, pred = torch.max(logits, 1)\n",
        "        self.train_acc(pred, label)\n",
        "        self.log('train_acc', self.train_acc, on_step=True, on_epoch=True)\n",
        "        return loss\n",
        "\n",
        "    def test_step(self, batch, batch_idx):\n",
        "        waveform, label = batch\n",
        "        b, c, t = waveform.size()\n",
        "        logits = self.forward(waveform)\n",
        "        loss = self.celoss(logits, label)\n",
        "        self.log('test_loss', loss)\n",
        "        _, pred = torch.max(logits, 1)\n",
        "        self.test_acc(pred, label)\n",
        "        self.log('test_acc', self.test_acc, on_step=True, on_epoch=True)\n",
        "        self.test_cm(pred, label)\n",
        "\n",
        "    def training_epoch_end(self, outputs):\n",
        "        # log epoch metric\n",
        "        self.log('train_acc', self.train_acc.compute(), prog_bar=True)\n",
        "\n",
        "    def test_epoch_end(self, outputs):\n",
        "        self.log('test_acc', self.test_acc.compute(), prog_bar=True)\n",
        "\n",
        "    def get_progress_bar_dict(self):\n",
        "        # don't show the version number\n",
        "        items = super().get_progress_bar_dict()\n",
        "        items.pop(\"v_num\", None)\n",
        "        return items\n",
        "\n",
        "    def configure_optimizers(self):\n",
        "        optimizer = torch.optim.Adam(self.parameters(), lr=1e-3,weight_decay=0.0001)\n",
        "        scheduler = torch.optim.lr_scheduler.StepLR(optimizer, step_size=10, gamma=0.1)  # reduce the learning after 10 epochs by a factor of 10\n",
        "        return [optimizer], [scheduler]\n"
      ]
    },
    {
      "cell_type": "markdown",
      "metadata": {
        "id": "FBgC2yQhZdFx"
      },
      "source": [
        "We train the model defined above."
      ]
    },
    {
      "cell_type": "code",
      "execution_count": null,
      "metadata": {
        "colab": {
          "base_uri": "https://localhost:8080/",
          "height": 728,
          "referenced_widgets": [
            "570a36f81a734475b2f484e961fc214a",
            "adfa63a3375e432e84483312a5e301e0",
            "cf0c56dab912480e9edbace6fb03b4da",
            "7a0e0f08b4e249d5a46df70a3d822f1d",
            "d8f60500c1844f8dadcdbfd11adc41ee",
            "e00506d2a1544cc2b37f1288d5762caa",
            "53b24f88d01046c7a5c10bda8794bed4",
            "2aa722ef2604435081baad1f7cb4c78d",
            "586f581106c04bbdb44bcb1c02e3190c",
            "9b7cdb17336140d9a82d1af22a9c0d5f",
            "4aa26dc5226a4f4895a9b7c25666ecb6"
          ]
        },
        "id": "gzLG38D1H9XQ",
        "outputId": "f00dfec7-0904-4395-fd5d-11506272d775"
      },
      "outputs": [
        {
          "output_type": "stream",
          "name": "stderr",
          "text": [
            "/usr/local/lib/python3.7/dist-packages/pytorch_lightning/trainer/connectors/callback_connector.py:97: LightningDeprecationWarning: Setting `Trainer(progress_bar_refresh_rate=10)` is deprecated in v1.5 and will be removed in v1.7. Please pass `pytorch_lightning.callbacks.progress.TQDMProgressBar` with `refresh_rate` directly to the Trainer's `callbacks` argument instead. Or, to disable the progress bar pass `enable_progress_bar = False` to the Trainer.\n",
            "  f\"Setting `Trainer(progress_bar_refresh_rate={progress_bar_refresh_rate})` is deprecated in v1.5 and\"\n",
            "GPU available: True, used: True\n",
            "TPU available: False, using: 0 TPU cores\n",
            "IPU available: False, using: 0 IPUs\n",
            "HPU available: False, using: 0 HPUs\n",
            "/usr/local/lib/python3.7/dist-packages/pytorch_lightning/trainer/configuration_validator.py:131: UserWarning: You passed in a `val_dataloader` but have no `validation_step`. Skipping val loop.\n",
            "  rank_zero_warn(\"You passed in a `val_dataloader` but have no `validation_step`. Skipping val loop.\")\n",
            "/usr/local/lib/python3.7/dist-packages/pytorch_lightning/trainer/configuration_validator.py:155: LightningDeprecationWarning: The `LightningModule.get_progress_bar_dict` method was deprecated in v1.5 and will be removed in v1.7. Please use the `ProgressBarBase.get_metrics` instead.\n",
            "  \"The `LightningModule.get_progress_bar_dict` method was deprecated in v1.5 and will be removed in v1.7.\"\n",
            "LOCAL_RANK: 0 - CUDA_VISIBLE_DEVICES: [0]\n",
            "\n",
            "   | Name            | Type             | Params\n",
            "------------------------------------------------------\n",
            "0  | celoss          | CrossEntropyLoss | 0     \n",
            "1  | melspec         | MelSpectrogram   | 0     \n",
            "2  | amplitude_to_db | AmplitudeToDB    | 0     \n",
            "3  | input_bn        | BatchNorm2d      | 2     \n",
            "4  | layer1          | Conv_2d          | 192   \n",
            "5  | layer2          | Conv_2d          | 2.4 K \n",
            "6  | layer3          | Conv_2d          | 4.7 K \n",
            "7  | layer4          | Conv_2d          | 9.3 K \n",
            "8  | layer5          | Conv_2d          | 18.6 K\n",
            "9  | dense1          | Linear           | 4.2 K \n",
            "10 | dense_bn        | BatchNorm1d      | 128   \n",
            "11 | dense2          | Linear           | 130   \n",
            "12 | dropout         | Dropout          | 0     \n",
            "13 | relu            | ReLU             | 0     \n",
            "14 | train_acc       | Accuracy         | 0     \n",
            "15 | test_acc        | Accuracy         | 0     \n",
            "16 | test_cm         | ConfusionMatrix  | 0     \n",
            "------------------------------------------------------\n",
            "39.6 K    Trainable params\n",
            "0         Non-trainable params\n",
            "39.6 K    Total params\n",
            "0.158     Total estimated model params size (MB)\n",
            "/usr/local/lib/python3.7/dist-packages/pytorch_lightning/trainer/trainer.py:1937: PossibleUserWarning: The number of training batches (15) is smaller than the logging interval Trainer(log_every_n_steps=50). Set a lower value for log_every_n_steps if you want to see logs for the training epoch.\n",
            "  category=PossibleUserWarning,\n"
          ]
        },
        {
          "output_type": "display_data",
          "data": {
            "text/plain": [
              "Training: 0it [00:00, ?it/s]"
            ],
            "application/vnd.jupyter.widget-view+json": {
              "version_major": 2,
              "version_minor": 0,
              "model_id": "570a36f81a734475b2f484e961fc214a"
            }
          },
          "metadata": {}
        }
      ],
      "source": [
        "#### Initialize the model\n",
        "model = CNN()\n",
        "\n",
        "#### Initialize a trainer\n",
        "trainer = pl.Trainer(gpus=1, max_epochs=10, progress_bar_refresh_rate=10)\n",
        "# trainer = pl.Trainer(max_epochs=3, progress_bar_refresh_rate=10)\n",
        "\n",
        "#### Train the model\n",
        "trainer.fit(\n",
        "    model,\n",
        "    split_dataset_loader_dict['train']['loader'],\n",
        "    split_dataset_loader_dict['test']['loader']\n",
        ")"
      ]
    },
    {
      "cell_type": "markdown",
      "source": [
        "mel: torch.Size([4, 1, 128, 469])\n",
        "input batch norm: torch.Size([4, 1, 128, 469])\n",
        "layer1: torch.Size([4, 16, 64, 234])\n",
        "layer2: torch.Size([4, 16, 32, 117])\n",
        "layer3: torch.Size([4, 32, 16, 58])\n",
        "layer4: torch.Size([4, 32, 5, 58])\n",
        "layer5: torch.Size([4, 64, 1, 58])\n",
        "pre-dense reshape: torch.Size([4, 3712])"
      ],
      "metadata": {
        "id": "ldmWVqNCmY9H"
      }
    },
    {
      "cell_type": "markdown",
      "metadata": {
        "id": "TIg6fmr4Zj4c"
      },
      "source": [
        "Once the model is trained we can use it to process data, save it, get the metrics on the test set. "
      ]
    },
    {
      "cell_type": "code",
      "source": [
        "# Put the model in production\n",
        "model.eval()\n",
        "\n",
        "# Compute metrics on the test set\n",
        "trainer.test(dataloaders=split_dataset_loader_dict['test']['loader'])"
      ],
      "metadata": {
        "colab": {
          "base_uri": "https://localhost:8080/",
          "height": 364,
          "referenced_widgets": [
            "0b56c261c086475f85eac4d2a9b672b0",
            "e2c138bfbf1f44b59d21072e03613ddc",
            "abe5623226c54e73b1c47e0434e7053e",
            "9b5e2eeb51274657a3a6053abf4de5cd",
            "e0c1735d441e43c9ad02ba02ddbb9bb3",
            "b82fbff43cc64dadaefd4f12a43a035c",
            "3f3bdc4c53d24f92b54978d5270bbd05",
            "decb1ab2d39b424098f34b5f73a18118",
            "ba786ac95ce543878cac692f2721a2cd",
            "ff162288adef44d3b0bdb369b9563299",
            "848074b9d02d4d2eb0bd1385f50f18e9"
          ]
        },
        "id": "CsAZTrlJ74zT",
        "outputId": "eb186357-36b5-4e68-87ff-9d931323d7b8"
      },
      "execution_count": null,
      "outputs": [
        {
          "output_type": "stream",
          "name": "stderr",
          "text": [
            "/usr/local/lib/python3.7/dist-packages/pytorch_lightning/trainer/trainer.py:1447: UserWarning: `.test(ckpt_path=None)` was called without a model. The best model of the previous `fit` call will be used. You can pass `test(ckpt_path='best')` to use and best model checkpoint and avoid this warning or `ckpt_path=trainer.checkpoint_callback.last_model_path` to use the last model.\n",
            "  f\"`.{fn}(ckpt_path=None)` was called without a model.\"\n",
            "/usr/local/lib/python3.7/dist-packages/pytorch_lightning/trainer/configuration_validator.py:155: LightningDeprecationWarning: The `LightningModule.get_progress_bar_dict` method was deprecated in v1.5 and will be removed in v1.7. Please use the `ProgressBarBase.get_metrics` instead.\n",
            "  \"The `LightningModule.get_progress_bar_dict` method was deprecated in v1.5 and will be removed in v1.7.\"\n",
            "Restoring states from the checkpoint path at /content/utopia_challenge/lightning_logs/version_1/checkpoints/epoch=9-step=150.ckpt\n",
            "LOCAL_RANK: 0 - CUDA_VISIBLE_DEVICES: [0]\n",
            "Loaded model weights from checkpoint at /content/utopia_challenge/lightning_logs/version_1/checkpoints/epoch=9-step=150.ckpt\n"
          ]
        },
        {
          "output_type": "display_data",
          "data": {
            "text/plain": [
              "Testing: 0it [00:00, ?it/s]"
            ],
            "application/vnd.jupyter.widget-view+json": {
              "version_major": 2,
              "version_minor": 0,
              "model_id": "0b56c261c086475f85eac4d2a9b672b0"
            }
          },
          "metadata": {}
        },
        {
          "output_type": "stream",
          "name": "stdout",
          "text": [
            "────────────────────────────────────────────────────────────────────────────────────────────────────────────────────────\n",
            "       Test metric             DataLoader 0\n",
            "────────────────────────────────────────────────────────────────────────────────────────────────────────────────────────\n",
            "        test_acc            0.7628865838050842\n",
            "     test_acc_epoch         0.7628865838050842\n",
            "        test_loss            0.507173478603363\n",
            "────────────────────────────────────────────────────────────────────────────────────────────────────────────────────────\n"
          ]
        },
        {
          "output_type": "execute_result",
          "data": {
            "text/plain": [
              "[{'test_acc': 0.7628865838050842,\n",
              "  'test_acc_epoch': 0.7628865838050842,\n",
              "  'test_loss': 0.507173478603363}]"
            ]
          },
          "metadata": {},
          "execution_count": 45
        }
      ]
    },
    {
      "cell_type": "code",
      "source": [
        "# Put the model in production\n",
        "model.eval()\n",
        "\n",
        "# Compute metrics on the test set\n",
        "trainer.test(dataloaders=split_dataset_loader_dict['test']['loader'])"
      ],
      "metadata": {
        "colab": {
          "base_uri": "https://localhost:8080/",
          "height": 364,
          "referenced_widgets": [
            "d02e8f379a964b4bbbcf7560cbe40382",
            "5b645fafe095497a8c20a7ec51b010ce",
            "7f66b211eb72483a902e458f64cfe057",
            "8e65c8d0d5e24a51aadffae4824d84d2",
            "893ef15552204255b5f71f0cfa653e65",
            "1e920780b130420dae6b1d3efcbe0284",
            "4010f1dc83b348e1abea4d43fea01b03",
            "8d7a9ea605a946b7bb0cb38b02ba2ddd",
            "62a7081d41604c64ab779379fac2aa24",
            "38b71d800686411b8bddada5e01e4ecf",
            "f5fa85af714f42d79291fae27f48a11d"
          ]
        },
        "id": "GECijAuoZW4C",
        "outputId": "21a8ef3a-218d-48e1-a887-ff4a6b71a329"
      },
      "execution_count": null,
      "outputs": [
        {
          "output_type": "stream",
          "name": "stderr",
          "text": [
            "/usr/local/lib/python3.7/dist-packages/pytorch_lightning/trainer/trainer.py:1447: UserWarning: `.test(ckpt_path=None)` was called without a model. The best model of the previous `fit` call will be used. You can pass `test(ckpt_path='best')` to use and best model checkpoint and avoid this warning or `ckpt_path=trainer.checkpoint_callback.last_model_path` to use the last model.\n",
            "  f\"`.{fn}(ckpt_path=None)` was called without a model.\"\n",
            "/usr/local/lib/python3.7/dist-packages/pytorch_lightning/trainer/configuration_validator.py:155: LightningDeprecationWarning: The `LightningModule.get_progress_bar_dict` method was deprecated in v1.5 and will be removed in v1.7. Please use the `ProgressBarBase.get_metrics` instead.\n",
            "  \"The `LightningModule.get_progress_bar_dict` method was deprecated in v1.5 and will be removed in v1.7.\"\n",
            "Restoring states from the checkpoint path at /content/utopia_challenge/lightning_logs/version_0/checkpoints/epoch=9-step=150.ckpt\n",
            "LOCAL_RANK: 0 - CUDA_VISIBLE_DEVICES: [0]\n",
            "Loaded model weights from checkpoint at /content/utopia_challenge/lightning_logs/version_0/checkpoints/epoch=9-step=150.ckpt\n"
          ]
        },
        {
          "output_type": "display_data",
          "data": {
            "text/plain": [
              "Testing: 0it [00:00, ?it/s]"
            ],
            "application/vnd.jupyter.widget-view+json": {
              "version_major": 2,
              "version_minor": 0,
              "model_id": "d02e8f379a964b4bbbcf7560cbe40382"
            }
          },
          "metadata": {}
        },
        {
          "output_type": "stream",
          "name": "stdout",
          "text": [
            "────────────────────────────────────────────────────────────────────────────────────────────────────────────────────────\n",
            "       Test metric             DataLoader 0\n",
            "────────────────────────────────────────────────────────────────────────────────────────────────────────────────────────\n",
            "        test_acc            0.7628865838050842\n",
            "     test_acc_epoch         0.7628865838050842\n",
            "        test_loss           0.46033230423927307\n",
            "────────────────────────────────────────────────────────────────────────────────────────────────────────────────────────\n"
          ]
        },
        {
          "output_type": "execute_result",
          "data": {
            "text/plain": [
              "[{'test_acc': 0.7628865838050842,\n",
              "  'test_acc_epoch': 0.7628865838050842,\n",
              "  'test_loss': 0.46033230423927307}]"
            ]
          },
          "metadata": {},
          "execution_count": 29
        }
      ]
    },
    {
      "cell_type": "code",
      "execution_count": null,
      "metadata": {
        "colab": {
          "base_uri": "https://localhost:8080/",
          "height": 487
        },
        "id": "4l9QTVHAIJcx",
        "outputId": "b9082c9f-0c10-4ba0-a81d-face822aa720"
      },
      "outputs": [
        {
          "output_type": "error",
          "ename": "NameError",
          "evalue": "ignored",
          "traceback": [
            "\u001b[0;31m---------------------------------------------------------------------------\u001b[0m",
            "\u001b[0;31mNameError\u001b[0m                                 Traceback (most recent call last)",
            "\u001b[0;32m<ipython-input-30-0dd606a98b17>\u001b[0m in \u001b[0;36m<module>\u001b[0;34m()\u001b[0m\n\u001b[1;32m      4\u001b[0m \u001b[0mfig\u001b[0m\u001b[0;34m,\u001b[0m \u001b[0max\u001b[0m \u001b[0;34m=\u001b[0m \u001b[0mplt\u001b[0m\u001b[0;34m.\u001b[0m\u001b[0msubplots\u001b[0m\u001b[0;34m(\u001b[0m\u001b[0;34m)\u001b[0m\u001b[0;34m\u001b[0m\u001b[0;34m\u001b[0m\u001b[0m\n\u001b[1;32m      5\u001b[0m \u001b[0max\u001b[0m\u001b[0;34m.\u001b[0m\u001b[0mmatshow\u001b[0m\u001b[0;34m(\u001b[0m\u001b[0mconfusion_matrix\u001b[0m\u001b[0;34m)\u001b[0m\u001b[0;34m\u001b[0m\u001b[0;34m\u001b[0m\u001b[0m\n\u001b[0;32m----> 6\u001b[0;31m \u001b[0max\u001b[0m\u001b[0;34m.\u001b[0m\u001b[0mset_xticks\u001b[0m\u001b[0;34m(\u001b[0m\u001b[0mrange\u001b[0m\u001b[0;34m(\u001b[0m\u001b[0mlen\u001b[0m\u001b[0;34m(\u001b[0m\u001b[0mtrain_dataset\u001b[0m\u001b[0;34m.\u001b[0m\u001b[0mlabels\u001b[0m\u001b[0;34m)\u001b[0m\u001b[0;34m)\u001b[0m\u001b[0;34m)\u001b[0m\u001b[0;34m\u001b[0m\u001b[0;34m\u001b[0m\u001b[0m\n\u001b[0m\u001b[1;32m      7\u001b[0m \u001b[0max\u001b[0m\u001b[0;34m.\u001b[0m\u001b[0mset_yticks\u001b[0m\u001b[0;34m(\u001b[0m\u001b[0mrange\u001b[0m\u001b[0;34m(\u001b[0m\u001b[0mlen\u001b[0m\u001b[0;34m(\u001b[0m\u001b[0mtrain_dataset\u001b[0m\u001b[0;34m.\u001b[0m\u001b[0mlabels\u001b[0m\u001b[0;34m)\u001b[0m\u001b[0;34m)\u001b[0m\u001b[0;34m)\u001b[0m\u001b[0;34m\u001b[0m\u001b[0;34m\u001b[0m\u001b[0m\n\u001b[1;32m      8\u001b[0m \u001b[0max\u001b[0m\u001b[0;34m.\u001b[0m\u001b[0mset_xticklabels\u001b[0m\u001b[0;34m(\u001b[0m\u001b[0mtrain_dataset\u001b[0m\u001b[0;34m.\u001b[0m\u001b[0mlabels\u001b[0m\u001b[0;34m)\u001b[0m\u001b[0;34m\u001b[0m\u001b[0;34m\u001b[0m\u001b[0m\n",
            "\u001b[0;31mNameError\u001b[0m: name 'train_dataset' is not defined"
          ]
        },
        {
          "output_type": "display_data",
          "data": {
            "text/plain": [
              "<Figure size 432x288 with 1 Axes>"
            ],
            "image/png": "[encoded data removed]"
          },
          "metadata": {
            "needs_background": "light"
          }
        }
      ],
      "source": [
        "#### Compute confusion matrix on the test set\n",
        "confusion_matrix = model.test_cm.compute().cpu().numpy()\n",
        "import matplotlib.pyplot as plt\n",
        "fig, ax = plt.subplots()\n",
        "ax.matshow(confusion_matrix)\n",
        "ax.set_xticks(range(len(train_dataset.labels)))\n",
        "ax.set_yticks(range(len(train_dataset.labels)))\n",
        "ax.set_xticklabels(train_dataset.labels)\n",
        "ax.set_yticklabels(train_dataset.labels)\n",
        "plt.show()"
      ]
    },
    {
      "cell_type": "code",
      "execution_count": null,
      "metadata": {
        "id": "vMwh2fq-9qAb"
      },
      "outputs": [],
      "source": [
        ""
      ]
    }
  ],
  "metadata": {
    "accelerator": "GPU",
    "colab": {
      "collapsed_sections": [],
      "name": "notebooks/03-model_experimentation.ipynb",
      "provenance": [],
      "include_colab_link": true
    },
    "kernelspec": {
      "display_name": "Python 3 (ipykernel)",
      "language": "python",
      "name": "python3"
    },
    "language_info": {
      "codemirror_mode": {
        "name": "ipython",
        "version": 3
      },
      "file_extension": ".py",
      "mimetype": "text/x-python",
      "name": "python",
      "nbconvert_exporter": "python",
      "pygments_lexer": "ipython3",
      "version": "3.8.13"
    },
    "widgets": {
      "application/vnd.jupyter.widget-state+json": {
        "570a36f81a734475b2f484e961fc214a": {
          "model_module": "@jupyter-widgets/controls",
          "model_name": "HBoxModel",
          "model_module_version": "1.5.0",
          "state": {
            "_dom_classes": [],
            "_model_module": "@jupyter-widgets/controls",
            "_model_module_version": "1.5.0",
            "_model_name": "HBoxModel",
            "_view_count": null,
            "_view_module": "@jupyter-widgets/controls",
            "_view_module_version": "1.5.0",
            "_view_name": "HBoxView",
            "box_style": "",
            "children": [
              "IPY_MODEL_adfa63a3375e432e84483312a5e301e0",
              "IPY_MODEL_cf0c56dab912480e9edbace6fb03b4da",
              "IPY_MODEL_7a0e0f08b4e249d5a46df70a3d822f1d"
            ],
            "layout": "IPY_MODEL_d8f60500c1844f8dadcdbfd11adc41ee"
          }
        },
        "adfa63a3375e432e84483312a5e301e0": {
          "model_module": "@jupyter-widgets/controls",
          "model_name": "HTMLModel",
          "model_module_version": "1.5.0",
          "state": {
            "_dom_classes": [],
            "_model_module": "@jupyter-widgets/controls",
            "_model_module_version": "1.5.0",
            "_model_name": "HTMLModel",
            "_view_count": null,
            "_view_module": "@jupyter-widgets/controls",
            "_view_module_version": "1.5.0",
            "_view_name": "HTMLView",
            "description": "",
            "description_tooltip": null,
            "layout": "IPY_MODEL_e00506d2a1544cc2b37f1288d5762caa",
            "placeholder": "​",
            "style": "IPY_MODEL_53b24f88d01046c7a5c10bda8794bed4",
            "value": "Epoch 9: 100%"
          }
        },
        "cf0c56dab912480e9edbace6fb03b4da": {
          "model_module": "@jupyter-widgets/controls",
          "model_name": "FloatProgressModel",
          "model_module_version": "1.5.0",
          "state": {
            "_dom_classes": [],
            "_model_module": "@jupyter-widgets/controls",
            "_model_module_version": "1.5.0",
            "_model_name": "FloatProgressModel",
            "_view_count": null,
            "_view_module": "@jupyter-widgets/controls",
            "_view_module_version": "1.5.0",
            "_view_name": "ProgressView",
            "bar_style": "success",
            "description": "",
            "description_tooltip": null,
            "layout": "IPY_MODEL_2aa722ef2604435081baad1f7cb4c78d",
            "max": 15,
            "min": 0,
            "orientation": "horizontal",
            "style": "IPY_MODEL_586f581106c04bbdb44bcb1c02e3190c",
            "value": 15
          }
        },
        "7a0e0f08b4e249d5a46df70a3d822f1d": {
          "model_module": "@jupyter-widgets/controls",
          "model_name": "HTMLModel",
          "model_module_version": "1.5.0",
          "state": {
            "_dom_classes": [],
            "_model_module": "@jupyter-widgets/controls",
            "_model_module_version": "1.5.0",
            "_model_name": "HTMLModel",
            "_view_count": null,
            "_view_module": "@jupyter-widgets/controls",
            "_view_module_version": "1.5.0",
            "_view_name": "HTMLView",
            "description": "",
            "description_tooltip": null,
            "layout": "IPY_MODEL_9b7cdb17336140d9a82d1af22a9c0d5f",
            "placeholder": "​",
            "style": "IPY_MODEL_4aa26dc5226a4f4895a9b7c25666ecb6",
            "value": " 15/15 [00:52&lt;00:00,  3.51s/it, loss=0.492, train_acc=0.771]"
          }
        },
        "d8f60500c1844f8dadcdbfd11adc41ee": {
          "model_module": "@jupyter-widgets/base",
          "model_name": "LayoutModel",
          "model_module_version": "1.2.0",
          "state": {
            "_model_module": "@jupyter-widgets/base",
            "_model_module_version": "1.2.0",
            "_model_name": "LayoutModel",
            "_view_count": null,
            "_view_module": "@jupyter-widgets/base",
            "_view_module_version": "1.2.0",
            "_view_name": "LayoutView",
            "align_content": null,
            "align_items": null,
            "align_self": null,
            "border": null,
            "bottom": null,
            "display": "inline-flex",
            "flex": null,
            "flex_flow": "row wrap",
            "grid_area": null,
            "grid_auto_columns": null,
            "grid_auto_flow": null,
            "grid_auto_rows": null,
            "grid_column": null,
            "grid_gap": null,
            "grid_row": null,
            "grid_template_areas": null,
            "grid_template_columns": null,
            "grid_template_rows": null,
            "height": null,
            "justify_content": null,
            "justify_items": null,
            "left": null,
            "margin": null,
            "max_height": null,
            "max_width": null,
            "min_height": null,
            "min_width": null,
            "object_fit": null,
            "object_position": null,
            "order": null,
            "overflow": null,
            "overflow_x": null,
            "overflow_y": null,
            "padding": null,
            "right": null,
            "top": null,
            "visibility": null,
            "width": "100%"
          }
        },
        "e00506d2a1544cc2b37f1288d5762caa": {
          "model_module": "@jupyter-widgets/base",
          "model_name": "LayoutModel",
          "model_module_version": "1.2.0",
          "state": {
            "_model_module": "@jupyter-widgets/base",
            "_model_module_version": "1.2.0",
            "_model_name": "LayoutModel",
            "_view_count": null,
            "_view_module": "@jupyter-widgets/base",
            "_view_module_version": "1.2.0",
            "_view_name": "LayoutView",
            "align_content": null,
            "align_items": null,
            "align_self": null,
            "border": null,
            "bottom": null,
            "display": null,
            "flex": null,
            "flex_flow": null,
            "grid_area": null,
            "grid_auto_columns": null,
            "grid_auto_flow": null,
            "grid_auto_rows": null,
            "grid_column": null,
            "grid_gap": null,
            "grid_row": null,
            "grid_template_areas": null,
            "grid_template_columns": null,
            "grid_template_rows": null,
            "height": null,
            "justify_content": null,
            "justify_items": null,
            "left": null,
            "margin": null,
            "max_height": null,
            "max_width": null,
            "min_height": null,
            "min_width": null,
            "object_fit": null,
            "object_position": null,
            "order": null,
            "overflow": null,
            "overflow_x": null,
            "overflow_y": null,
            "padding": null,
            "right": null,
            "top": null,
            "visibility": null,
            "width": null
          }
        },
        "53b24f88d01046c7a5c10bda8794bed4": {
          "model_module": "@jupyter-widgets/controls",
          "model_name": "DescriptionStyleModel",
          "model_module_version": "1.5.0",
          "state": {
            "_model_module": "@jupyter-widgets/controls",
            "_model_module_version": "1.5.0",
            "_model_name": "DescriptionStyleModel",
            "_view_count": null,
            "_view_module": "@jupyter-widgets/base",
            "_view_module_version": "1.2.0",
            "_view_name": "StyleView",
            "description_width": ""
          }
        },
        "2aa722ef2604435081baad1f7cb4c78d": {
          "model_module": "@jupyter-widgets/base",
          "model_name": "LayoutModel",
          "model_module_version": "1.2.0",
          "state": {
            "_model_module": "@jupyter-widgets/base",
            "_model_module_version": "1.2.0",
            "_model_name": "LayoutModel",
            "_view_count": null,
            "_view_module": "@jupyter-widgets/base",
            "_view_module_version": "1.2.0",
            "_view_name": "LayoutView",
            "align_content": null,
            "align_items": null,
            "align_self": null,
            "border": null,
            "bottom": null,
            "display": null,
            "flex": "2",
            "flex_flow": null,
            "grid_area": null,
            "grid_auto_columns": null,
            "grid_auto_flow": null,
            "grid_auto_rows": null,
            "grid_column": null,
            "grid_gap": null,
            "grid_row": null,
            "grid_template_areas": null,
            "grid_template_columns": null,
            "grid_template_rows": null,
            "height": null,
            "justify_content": null,
            "justify_items": null,
            "left": null,
            "margin": null,
            "max_height": null,
            "max_width": null,
            "min_height": null,
            "min_width": null,
            "object_fit": null,
            "object_position": null,
            "order": null,
            "overflow": null,
            "overflow_x": null,
            "overflow_y": null,
            "padding": null,
            "right": null,
            "top": null,
            "visibility": null,
            "width": null
          }
        },
        "586f581106c04bbdb44bcb1c02e3190c": {
          "model_module": "@jupyter-widgets/controls",
          "model_name": "ProgressStyleModel",
          "model_module_version": "1.5.0",
          "state": {
            "_model_module": "@jupyter-widgets/controls",
            "_model_module_version": "1.5.0",
            "_model_name": "ProgressStyleModel",
            "_view_count": null,
            "_view_module": "@jupyter-widgets/base",
            "_view_module_version": "1.2.0",
            "_view_name": "StyleView",
            "bar_color": null,
            "description_width": ""
          }
        },
        "9b7cdb17336140d9a82d1af22a9c0d5f": {
          "model_module": "@jupyter-widgets/base",
          "model_name": "LayoutModel",
          "model_module_version": "1.2.0",
          "state": {
            "_model_module": "@jupyter-widgets/base",
            "_model_module_version": "1.2.0",
            "_model_name": "LayoutModel",
            "_view_count": null,
            "_view_module": "@jupyter-widgets/base",
            "_view_module_version": "1.2.0",
            "_view_name": "LayoutView",
            "align_content": null,
            "align_items": null,
            "align_self": null,
            "border": null,
            "bottom": null,
            "display": null,
            "flex": null,
            "flex_flow": null,
            "grid_area": null,
            "grid_auto_columns": null,
            "grid_auto_flow": null,
            "grid_auto_rows": null,
            "grid_column": null,
            "grid_gap": null,
            "grid_row": null,
            "grid_template_areas": null,
            "grid_template_columns": null,
            "grid_template_rows": null,
            "height": null,
            "justify_content": null,
            "justify_items": null,
            "left": null,
            "margin": null,
            "max_height": null,
            "max_width": null,
            "min_height": null,
            "min_width": null,
            "object_fit": null,
            "object_position": null,
            "order": null,
            "overflow": null,
            "overflow_x": null,
            "overflow_y": null,
            "padding": null,
            "right": null,
            "top": null,
            "visibility": null,
            "width": null
          }
        },
        "4aa26dc5226a4f4895a9b7c25666ecb6": {
          "model_module": "@jupyter-widgets/controls",
          "model_name": "DescriptionStyleModel",
          "model_module_version": "1.5.0",
          "state": {
            "_model_module": "@jupyter-widgets/controls",
            "_model_module_version": "1.5.0",
            "_model_name": "DescriptionStyleModel",
            "_view_count": null,
            "_view_module": "@jupyter-widgets/base",
            "_view_module_version": "1.2.0",
            "_view_name": "StyleView",
            "description_width": ""
          }
        },
        "0b56c261c086475f85eac4d2a9b672b0": {
          "model_module": "@jupyter-widgets/controls",
          "model_name": "HBoxModel",
          "model_module_version": "1.5.0",
          "state": {
            "_dom_classes": [],
            "_model_module": "@jupyter-widgets/controls",
            "_model_module_version": "1.5.0",
            "_model_name": "HBoxModel",
            "_view_count": null,
            "_view_module": "@jupyter-widgets/controls",
            "_view_module_version": "1.5.0",
            "_view_name": "HBoxView",
            "box_style": "",
            "children": [
              "IPY_MODEL_e2c138bfbf1f44b59d21072e03613ddc",
              "IPY_MODEL_abe5623226c54e73b1c47e0434e7053e",
              "IPY_MODEL_9b5e2eeb51274657a3a6053abf4de5cd"
            ],
            "layout": "IPY_MODEL_e0c1735d441e43c9ad02ba02ddbb9bb3"
          }
        },
        "e2c138bfbf1f44b59d21072e03613ddc": {
          "model_module": "@jupyter-widgets/controls",
          "model_name": "HTMLModel",
          "model_module_version": "1.5.0",
          "state": {
            "_dom_classes": [],
            "_model_module": "@jupyter-widgets/controls",
            "_model_module_version": "1.5.0",
            "_model_name": "HTMLModel",
            "_view_count": null,
            "_view_module": "@jupyter-widgets/controls",
            "_view_module_version": "1.5.0",
            "_view_name": "HTMLView",
            "description": "",
            "description_tooltip": null,
            "layout": "IPY_MODEL_b82fbff43cc64dadaefd4f12a43a035c",
            "placeholder": "​",
            "style": "IPY_MODEL_3f3bdc4c53d24f92b54978d5270bbd05",
            "value": "Testing DataLoader 0: 100%"
          }
        },
        "abe5623226c54e73b1c47e0434e7053e": {
          "model_module": "@jupyter-widgets/controls",
          "model_name": "FloatProgressModel",
          "model_module_version": "1.5.0",
          "state": {
            "_dom_classes": [],
            "_model_module": "@jupyter-widgets/controls",
            "_model_module_version": "1.5.0",
            "_model_name": "FloatProgressModel",
            "_view_count": null,
            "_view_module": "@jupyter-widgets/controls",
            "_view_module_version": "1.5.0",
            "_view_name": "ProgressView",
            "bar_style": "success",
            "description": "",
            "description_tooltip": null,
            "layout": "IPY_MODEL_decb1ab2d39b424098f34b5f73a18118",
            "max": 7,
            "min": 0,
            "orientation": "horizontal",
            "style": "IPY_MODEL_ba786ac95ce543878cac692f2721a2cd",
            "value": 7
          }
        },
        "9b5e2eeb51274657a3a6053abf4de5cd": {
          "model_module": "@jupyter-widgets/controls",
          "model_name": "HTMLModel",
          "model_module_version": "1.5.0",
          "state": {
            "_dom_classes": [],
            "_model_module": "@jupyter-widgets/controls",
            "_model_module_version": "1.5.0",
            "_model_name": "HTMLModel",
            "_view_count": null,
            "_view_module": "@jupyter-widgets/controls",
            "_view_module_version": "1.5.0",
            "_view_name": "HTMLView",
            "description": "",
            "description_tooltip": null,
            "layout": "IPY_MODEL_ff162288adef44d3b0bdb369b9563299",
            "placeholder": "​",
            "style": "IPY_MODEL_848074b9d02d4d2eb0bd1385f50f18e9",
            "value": " 7/7 [00:14&lt;00:00,  2.07s/it]"
          }
        },
        "e0c1735d441e43c9ad02ba02ddbb9bb3": {
          "model_module": "@jupyter-widgets/base",
          "model_name": "LayoutModel",
          "model_module_version": "1.2.0",
          "state": {
            "_model_module": "@jupyter-widgets/base",
            "_model_module_version": "1.2.0",
            "_model_name": "LayoutModel",
            "_view_count": null,
            "_view_module": "@jupyter-widgets/base",
            "_view_module_version": "1.2.0",
            "_view_name": "LayoutView",
            "align_content": null,
            "align_items": null,
            "align_self": null,
            "border": null,
            "bottom": null,
            "display": "inline-flex",
            "flex": null,
            "flex_flow": "row wrap",
            "grid_area": null,
            "grid_auto_columns": null,
            "grid_auto_flow": null,
            "grid_auto_rows": null,
            "grid_column": null,
            "grid_gap": null,
            "grid_row": null,
            "grid_template_areas": null,
            "grid_template_columns": null,
            "grid_template_rows": null,
            "height": null,
            "justify_content": null,
            "justify_items": null,
            "left": null,
            "margin": null,
            "max_height": null,
            "max_width": null,
            "min_height": null,
            "min_width": null,
            "object_fit": null,
            "object_position": null,
            "order": null,
            "overflow": null,
            "overflow_x": null,
            "overflow_y": null,
            "padding": null,
            "right": null,
            "top": null,
            "visibility": null,
            "width": "100%"
          }
        },
        "b82fbff43cc64dadaefd4f12a43a035c": {
          "model_module": "@jupyter-widgets/base",
          "model_name": "LayoutModel",
          "model_module_version": "1.2.0",
          "state": {
            "_model_module": "@jupyter-widgets/base",
            "_model_module_version": "1.2.0",
            "_model_name": "LayoutModel",
            "_view_count": null,
            "_view_module": "@jupyter-widgets/base",
            "_view_module_version": "1.2.0",
            "_view_name": "LayoutView",
            "align_content": null,
            "align_items": null,
            "align_self": null,
            "border": null,
            "bottom": null,
            "display": null,
            "flex": null,
            "flex_flow": null,
            "grid_area": null,
            "grid_auto_columns": null,
            "grid_auto_flow": null,
            "grid_auto_rows": null,
            "grid_column": null,
            "grid_gap": null,
            "grid_row": null,
            "grid_template_areas": null,
            "grid_template_columns": null,
            "grid_template_rows": null,
            "height": null,
            "justify_content": null,
            "justify_items": null,
            "left": null,
            "margin": null,
            "max_height": null,
            "max_width": null,
            "min_height": null,
            "min_width": null,
            "object_fit": null,
            "object_position": null,
            "order": null,
            "overflow": null,
            "overflow_x": null,
            "overflow_y": null,
            "padding": null,
            "right": null,
            "top": null,
            "visibility": null,
            "width": null
          }
        },
        "3f3bdc4c53d24f92b54978d5270bbd05": {
          "model_module": "@jupyter-widgets/controls",
          "model_name": "DescriptionStyleModel",
          "model_module_version": "1.5.0",
          "state": {
            "_model_module": "@jupyter-widgets/controls",
            "_model_module_version": "1.5.0",
            "_model_name": "DescriptionStyleModel",
            "_view_count": null,
            "_view_module": "@jupyter-widgets/base",
            "_view_module_version": "1.2.0",
            "_view_name": "StyleView",
            "description_width": ""
          }
        },
        "decb1ab2d39b424098f34b5f73a18118": {
          "model_module": "@jupyter-widgets/base",
          "model_name": "LayoutModel",
          "model_module_version": "1.2.0",
          "state": {
            "_model_module": "@jupyter-widgets/base",
            "_model_module_version": "1.2.0",
            "_model_name": "LayoutModel",
            "_view_count": null,
            "_view_module": "@jupyter-widgets/base",
            "_view_module_version": "1.2.0",
            "_view_name": "LayoutView",
            "align_content": null,
            "align_items": null,
            "align_self": null,
            "border": null,
            "bottom": null,
            "display": null,
            "flex": "2",
            "flex_flow": null,
            "grid_area": null,
            "grid_auto_columns": null,
            "grid_auto_flow": null,
            "grid_auto_rows": null,
            "grid_column": null,
            "grid_gap": null,
            "grid_row": null,
            "grid_template_areas": null,
            "grid_template_columns": null,
            "grid_template_rows": null,
            "height": null,
            "justify_content": null,
            "justify_items": null,
            "left": null,
            "margin": null,
            "max_height": null,
            "max_width": null,
            "min_height": null,
            "min_width": null,
            "object_fit": null,
            "object_position": null,
            "order": null,
            "overflow": null,
            "overflow_x": null,
            "overflow_y": null,
            "padding": null,
            "right": null,
            "top": null,
            "visibility": null,
            "width": null
          }
        },
        "ba786ac95ce543878cac692f2721a2cd": {
          "model_module": "@jupyter-widgets/controls",
          "model_name": "ProgressStyleModel",
          "model_module_version": "1.5.0",
          "state": {
            "_model_module": "@jupyter-widgets/controls",
            "_model_module_version": "1.5.0",
            "_model_name": "ProgressStyleModel",
            "_view_count": null,
            "_view_module": "@jupyter-widgets/base",
            "_view_module_version": "1.2.0",
            "_view_name": "StyleView",
            "bar_color": null,
            "description_width": ""
          }
        },
        "ff162288adef44d3b0bdb369b9563299": {
          "model_module": "@jupyter-widgets/base",
          "model_name": "LayoutModel",
          "model_module_version": "1.2.0",
          "state": {
            "_model_module": "@jupyter-widgets/base",
            "_model_module_version": "1.2.0",
            "_model_name": "LayoutModel",
            "_view_count": null,
            "_view_module": "@jupyter-widgets/base",
            "_view_module_version": "1.2.0",
            "_view_name": "LayoutView",
            "align_content": null,
            "align_items": null,
            "align_self": null,
            "border": null,
            "bottom": null,
            "display": null,
            "flex": null,
            "flex_flow": null,
            "grid_area": null,
            "grid_auto_columns": null,
            "grid_auto_flow": null,
            "grid_auto_rows": null,
            "grid_column": null,
            "grid_gap": null,
            "grid_row": null,
            "grid_template_areas": null,
            "grid_template_columns": null,
            "grid_template_rows": null,
            "height": null,
            "justify_content": null,
            "justify_items": null,
            "left": null,
            "margin": null,
            "max_height": null,
            "max_width": null,
            "min_height": null,
            "min_width": null,
            "object_fit": null,
            "object_position": null,
            "order": null,
            "overflow": null,
            "overflow_x": null,
            "overflow_y": null,
            "padding": null,
            "right": null,
            "top": null,
            "visibility": null,
            "width": null
          }
        },
        "848074b9d02d4d2eb0bd1385f50f18e9": {
          "model_module": "@jupyter-widgets/controls",
          "model_name": "DescriptionStyleModel",
          "model_module_version": "1.5.0",
          "state": {
            "_model_module": "@jupyter-widgets/controls",
            "_model_module_version": "1.5.0",
            "_model_name": "DescriptionStyleModel",
            "_view_count": null,
            "_view_module": "@jupyter-widgets/base",
            "_view_module_version": "1.2.0",
            "_view_name": "StyleView",
            "description_width": ""
          }
        },
        "d02e8f379a964b4bbbcf7560cbe40382": {
          "model_module": "@jupyter-widgets/controls",
          "model_name": "HBoxModel",
          "model_module_version": "1.5.0",
          "state": {
            "_dom_classes": [],
            "_model_module": "@jupyter-widgets/controls",
            "_model_module_version": "1.5.0",
            "_model_name": "HBoxModel",
            "_view_count": null,
            "_view_module": "@jupyter-widgets/controls",
            "_view_module_version": "1.5.0",
            "_view_name": "HBoxView",
            "box_style": "",
            "children": [
              "IPY_MODEL_5b645fafe095497a8c20a7ec51b010ce",
              "IPY_MODEL_7f66b211eb72483a902e458f64cfe057",
              "IPY_MODEL_8e65c8d0d5e24a51aadffae4824d84d2"
            ],
            "layout": "IPY_MODEL_893ef15552204255b5f71f0cfa653e65"
          }
        },
        "5b645fafe095497a8c20a7ec51b010ce": {
          "model_module": "@jupyter-widgets/controls",
          "model_name": "HTMLModel",
          "model_module_version": "1.5.0",
          "state": {
            "_dom_classes": [],
            "_model_module": "@jupyter-widgets/controls",
            "_model_module_version": "1.5.0",
            "_model_name": "HTMLModel",
            "_view_count": null,
            "_view_module": "@jupyter-widgets/controls",
            "_view_module_version": "1.5.0",
            "_view_name": "HTMLView",
            "description": "",
            "description_tooltip": null,
            "layout": "IPY_MODEL_1e920780b130420dae6b1d3efcbe0284",
            "placeholder": "​",
            "style": "IPY_MODEL_4010f1dc83b348e1abea4d43fea01b03",
            "value": "Testing DataLoader 0: 100%"
          }
        },
        "7f66b211eb72483a902e458f64cfe057": {
          "model_module": "@jupyter-widgets/controls",
          "model_name": "FloatProgressModel",
          "model_module_version": "1.5.0",
          "state": {
            "_dom_classes": [],
            "_model_module": "@jupyter-widgets/controls",
            "_model_module_version": "1.5.0",
            "_model_name": "FloatProgressModel",
            "_view_count": null,
            "_view_module": "@jupyter-widgets/controls",
            "_view_module_version": "1.5.0",
            "_view_name": "ProgressView",
            "bar_style": "success",
            "description": "",
            "description_tooltip": null,
            "layout": "IPY_MODEL_8d7a9ea605a946b7bb0cb38b02ba2ddd",
            "max": 7,
            "min": 0,
            "orientation": "horizontal",
            "style": "IPY_MODEL_62a7081d41604c64ab779379fac2aa24",
            "value": 7
          }
        },
        "8e65c8d0d5e24a51aadffae4824d84d2": {
          "model_module": "@jupyter-widgets/controls",
          "model_name": "HTMLModel",
          "model_module_version": "1.5.0",
          "state": {
            "_dom_classes": [],
            "_model_module": "@jupyter-widgets/controls",
            "_model_module_version": "1.5.0",
            "_model_name": "HTMLModel",
            "_view_count": null,
            "_view_module": "@jupyter-widgets/controls",
            "_view_module_version": "1.5.0",
            "_view_name": "HTMLView",
            "description": "",
            "description_tooltip": null,
            "layout": "IPY_MODEL_38b71d800686411b8bddada5e01e4ecf",
            "placeholder": "​",
            "style": "IPY_MODEL_f5fa85af714f42d79291fae27f48a11d",
            "value": " 7/7 [00:14&lt;00:00,  2.14s/it]"
          }
        },
        "893ef15552204255b5f71f0cfa653e65": {
          "model_module": "@jupyter-widgets/base",
          "model_name": "LayoutModel",
          "model_module_version": "1.2.0",
          "state": {
            "_model_module": "@jupyter-widgets/base",
            "_model_module_version": "1.2.0",
            "_model_name": "LayoutModel",
            "_view_count": null,
            "_view_module": "@jupyter-widgets/base",
            "_view_module_version": "1.2.0",
            "_view_name": "LayoutView",
            "align_content": null,
            "align_items": null,
            "align_self": null,
            "border": null,
            "bottom": null,
            "display": "inline-flex",
            "flex": null,
            "flex_flow": "row wrap",
            "grid_area": null,
            "grid_auto_columns": null,
            "grid_auto_flow": null,
            "grid_auto_rows": null,
            "grid_column": null,
            "grid_gap": null,
            "grid_row": null,
            "grid_template_areas": null,
            "grid_template_columns": null,
            "grid_template_rows": null,
            "height": null,
            "justify_content": null,
            "justify_items": null,
            "left": null,
            "margin": null,
            "max_height": null,
            "max_width": null,
            "min_height": null,
            "min_width": null,
            "object_fit": null,
            "object_position": null,
            "order": null,
            "overflow": null,
            "overflow_x": null,
            "overflow_y": null,
            "padding": null,
            "right": null,
            "top": null,
            "visibility": null,
            "width": "100%"
          }
        },
        "1e920780b130420dae6b1d3efcbe0284": {
          "model_module": "@jupyter-widgets/base",
          "model_name": "LayoutModel",
          "model_module_version": "1.2.0",
          "state": {
            "_model_module": "@jupyter-widgets/base",
            "_model_module_version": "1.2.0",
            "_model_name": "LayoutModel",
            "_view_count": null,
            "_view_module": "@jupyter-widgets/base",
            "_view_module_version": "1.2.0",
            "_view_name": "LayoutView",
            "align_content": null,
            "align_items": null,
            "align_self": null,
            "border": null,
            "bottom": null,
            "display": null,
            "flex": null,
            "flex_flow": null,
            "grid_area": null,
            "grid_auto_columns": null,
            "grid_auto_flow": null,
            "grid_auto_rows": null,
            "grid_column": null,
            "grid_gap": null,
            "grid_row": null,
            "grid_template_areas": null,
            "grid_template_columns": null,
            "grid_template_rows": null,
            "height": null,
            "justify_content": null,
            "justify_items": null,
            "left": null,
            "margin": null,
            "max_height": null,
            "max_width": null,
            "min_height": null,
            "min_width": null,
            "object_fit": null,
            "object_position": null,
            "order": null,
            "overflow": null,
            "overflow_x": null,
            "overflow_y": null,
            "padding": null,
            "right": null,
            "top": null,
            "visibility": null,
            "width": null
          }
        },
        "4010f1dc83b348e1abea4d43fea01b03": {
          "model_module": "@jupyter-widgets/controls",
          "model_name": "DescriptionStyleModel",
          "model_module_version": "1.5.0",
          "state": {
            "_model_module": "@jupyter-widgets/controls",
            "_model_module_version": "1.5.0",
            "_model_name": "DescriptionStyleModel",
            "_view_count": null,
            "_view_module": "@jupyter-widgets/base",
            "_view_module_version": "1.2.0",
            "_view_name": "StyleView",
            "description_width": ""
          }
        },
        "8d7a9ea605a946b7bb0cb38b02ba2ddd": {
          "model_module": "@jupyter-widgets/base",
          "model_name": "LayoutModel",
          "model_module_version": "1.2.0",
          "state": {
            "_model_module": "@jupyter-widgets/base",
            "_model_module_version": "1.2.0",
            "_model_name": "LayoutModel",
            "_view_count": null,
            "_view_module": "@jupyter-widgets/base",
            "_view_module_version": "1.2.0",
            "_view_name": "LayoutView",
            "align_content": null,
            "align_items": null,
            "align_self": null,
            "border": null,
            "bottom": null,
            "display": null,
            "flex": "2",
            "flex_flow": null,
            "grid_area": null,
            "grid_auto_columns": null,
            "grid_auto_flow": null,
            "grid_auto_rows": null,
            "grid_column": null,
            "grid_gap": null,
            "grid_row": null,
            "grid_template_areas": null,
            "grid_template_columns": null,
            "grid_template_rows": null,
            "height": null,
            "justify_content": null,
            "justify_items": null,
            "left": null,
            "margin": null,
            "max_height": null,
            "max_width": null,
            "min_height": null,
            "min_width": null,
            "object_fit": null,
            "object_position": null,
            "order": null,
            "overflow": null,
            "overflow_x": null,
            "overflow_y": null,
            "padding": null,
            "right": null,
            "top": null,
            "visibility": null,
            "width": null
          }
        },
        "62a7081d41604c64ab779379fac2aa24": {
          "model_module": "@jupyter-widgets/controls",
          "model_name": "ProgressStyleModel",
          "model_module_version": "1.5.0",
          "state": {
            "_model_module": "@jupyter-widgets/controls",
            "_model_module_version": "1.5.0",
            "_model_name": "ProgressStyleModel",
            "_view_count": null,
            "_view_module": "@jupyter-widgets/base",
            "_view_module_version": "1.2.0",
            "_view_name": "StyleView",
            "bar_color": null,
            "description_width": ""
          }
        },
        "38b71d800686411b8bddada5e01e4ecf": {
          "model_module": "@jupyter-widgets/base",
          "model_name": "LayoutModel",
          "model_module_version": "1.2.0",
          "state": {
            "_model_module": "@jupyter-widgets/base",
            "_model_module_version": "1.2.0",
            "_model_name": "LayoutModel",
            "_view_count": null,
            "_view_module": "@jupyter-widgets/base",
            "_view_module_version": "1.2.0",
            "_view_name": "LayoutView",
            "align_content": null,
            "align_items": null,
            "align_self": null,
            "border": null,
            "bottom": null,
            "display": null,
            "flex": null,
            "flex_flow": null,
            "grid_area": null,
            "grid_auto_columns": null,
            "grid_auto_flow": null,
            "grid_auto_rows": null,
            "grid_column": null,
            "grid_gap": null,
            "grid_row": null,
            "grid_template_areas": null,
            "grid_template_columns": null,
            "grid_template_rows": null,
            "height": null,
            "justify_content": null,
            "justify_items": null,
            "left": null,
            "margin": null,
            "max_height": null,
            "max_width": null,
            "min_height": null,
            "min_width": null,
            "object_fit": null,
            "object_position": null,
            "order": null,
            "overflow": null,
            "overflow_x": null,
            "overflow_y": null,
            "padding": null,
            "right": null,
            "top": null,
            "visibility": null,
            "width": null
          }
        },
        "f5fa85af714f42d79291fae27f48a11d": {
          "model_module": "@jupyter-widgets/controls",
          "model_name": "DescriptionStyleModel",
          "model_module_version": "1.5.0",
          "state": {
            "_model_module": "@jupyter-widgets/controls",
            "_model_module_version": "1.5.0",
            "_model_name": "DescriptionStyleModel",
            "_view_count": null,
            "_view_module": "@jupyter-widgets/base",
            "_view_module_version": "1.2.0",
            "_view_name": "StyleView",
            "description_width": ""
          }
        }
      }
    },
    "gpuClass": "standard"
  },
  "nbformat": 4,
  "nbformat_minor": 0
}